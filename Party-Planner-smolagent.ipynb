{
 "cells": [
  {
   "cell_type": "markdown",
   "id": "ef16b9cd",
   "metadata": {},
   "source": [
    "## Party Planner Agent\n",
    "This project is a part of the course for Agents by Hugging Face. This project will go over creating a Code Agent, by using the smolagent framework. This project will make use of a built-in tool, a custom tool, as well as using Python imports inside the agent.\n",
    "\n",
    "The first step will be to install smolagents"
   ]
  },
  {
   "cell_type": "code",
   "execution_count": 1,
   "id": "c06885a9",
   "metadata": {},
   "outputs": [
    {
     "name": "stdout",
     "output_type": "stream",
     "text": [
      "Requirement already satisfied: smolagents in c:\\users\\dell\\appdata\\local\\programs\\python\\python313\\lib\\site-packages (1.21.1)\n",
      "Requirement already satisfied: huggingface-hub>=0.31.2 in c:\\users\\dell\\appdata\\local\\programs\\python\\python313\\lib\\site-packages (from smolagents) (0.33.4)\n",
      "Requirement already satisfied: requests>=2.32.3 in c:\\users\\dell\\appdata\\local\\programs\\python\\python313\\lib\\site-packages (from smolagents) (2.32.4)\n",
      "Requirement already satisfied: rich>=13.9.4 in c:\\users\\dell\\appdata\\local\\programs\\python\\python313\\lib\\site-packages (from smolagents) (14.0.0)\n",
      "Requirement already satisfied: jinja2>=3.1.4 in c:\\users\\dell\\appdata\\local\\programs\\python\\python313\\lib\\site-packages (from smolagents) (3.1.6)\n",
      "Requirement already satisfied: pillow>=10.0.1 in c:\\users\\dell\\appdata\\local\\programs\\python\\python313\\lib\\site-packages (from smolagents) (11.3.0)\n",
      "Requirement already satisfied: python-dotenv in c:\\users\\dell\\appdata\\local\\programs\\python\\python313\\lib\\site-packages (from smolagents) (1.1.1)\n",
      "Requirement already satisfied: filelock in c:\\users\\dell\\appdata\\local\\programs\\python\\python313\\lib\\site-packages (from huggingface-hub>=0.31.2->smolagents) (3.18.0)\n",
      "Requirement already satisfied: fsspec>=2023.5.0 in c:\\users\\dell\\appdata\\local\\programs\\python\\python313\\lib\\site-packages (from huggingface-hub>=0.31.2->smolagents) (2025.5.1)\n",
      "Requirement already satisfied: packaging>=20.9 in c:\\users\\dell\\appdata\\roaming\\python\\python313\\site-packages (from huggingface-hub>=0.31.2->smolagents) (25.0)\n",
      "Requirement already satisfied: pyyaml>=5.1 in c:\\users\\dell\\appdata\\local\\programs\\python\\python313\\lib\\site-packages (from huggingface-hub>=0.31.2->smolagents) (6.0.2)\n",
      "Requirement already satisfied: tqdm>=4.42.1 in c:\\users\\dell\\appdata\\local\\programs\\python\\python313\\lib\\site-packages (from huggingface-hub>=0.31.2->smolagents) (4.67.1)\n",
      "Requirement already satisfied: typing-extensions>=3.7.4.3 in c:\\users\\dell\\appdata\\local\\programs\\python\\python313\\lib\\site-packages (from huggingface-hub>=0.31.2->smolagents) (4.14.1)\n",
      "Requirement already satisfied: MarkupSafe>=2.0 in c:\\users\\dell\\appdata\\local\\programs\\python\\python313\\lib\\site-packages (from jinja2>=3.1.4->smolagents) (3.0.2)\n",
      "Requirement already satisfied: charset_normalizer<4,>=2 in c:\\users\\dell\\appdata\\local\\programs\\python\\python313\\lib\\site-packages (from requests>=2.32.3->smolagents) (3.4.2)\n",
      "Requirement already satisfied: idna<4,>=2.5 in c:\\users\\dell\\appdata\\local\\programs\\python\\python313\\lib\\site-packages (from requests>=2.32.3->smolagents) (3.10)\n",
      "Requirement already satisfied: urllib3<3,>=1.21.1 in c:\\users\\dell\\appdata\\local\\programs\\python\\python313\\lib\\site-packages (from requests>=2.32.3->smolagents) (2.5.0)\n",
      "Requirement already satisfied: certifi>=2017.4.17 in c:\\users\\dell\\appdata\\local\\programs\\python\\python313\\lib\\site-packages (from requests>=2.32.3->smolagents) (2025.6.15)\n",
      "Requirement already satisfied: markdown-it-py>=2.2.0 in c:\\users\\dell\\appdata\\local\\programs\\python\\python313\\lib\\site-packages (from rich>=13.9.4->smolagents) (3.0.0)\n",
      "Requirement already satisfied: pygments<3.0.0,>=2.13.0 in c:\\users\\dell\\appdata\\roaming\\python\\python313\\site-packages (from rich>=13.9.4->smolagents) (2.19.2)\n",
      "Requirement already satisfied: mdurl~=0.1 in c:\\users\\dell\\appdata\\local\\programs\\python\\python313\\lib\\site-packages (from markdown-it-py>=2.2.0->rich>=13.9.4->smolagents) (0.1.2)\n",
      "Requirement already satisfied: colorama in c:\\users\\dell\\appdata\\roaming\\python\\python313\\site-packages (from tqdm>=4.42.1->huggingface-hub>=0.31.2->smolagents) (0.4.6)\n",
      "Note: you may need to restart the kernel to use updated packages.\n"
     ]
    },
    {
     "name": "stderr",
     "output_type": "stream",
     "text": [
      "\n",
      "[notice] A new release of pip is available: 25.1.1 -> 25.2\n",
      "[notice] To update, run: python.exe -m pip install --upgrade pip\n"
     ]
    }
   ],
   "source": [
    "pip install smolagents -U"
   ]
  },
  {
   "cell_type": "markdown",
   "id": "b04efccb",
   "metadata": {},
   "source": [
    "We will use the Serverless Inference API, therefore we will need to login to Hugging Face Hub"
   ]
  },
  {
   "cell_type": "code",
   "execution_count": null,
   "id": "7f45c050",
   "metadata": {},
   "outputs": [
    {
     "data": {
      "application/vnd.jupyter.widget-view+json": {
       "model_id": "9cef67a83ff24ac3b9e6db3c86835bfb",
       "version_major": 2,
       "version_minor": 0
      },
      "text/plain": [
       "VBox(children=(HTML(value='<center> <img\\nsrc=https://huggingface.co/front/assets/huggingface_logo-noborder.sv…"
      ]
     },
     "metadata": {},
     "output_type": "display_data"
    }
   ],
   "source": [
    "#make sure that you provide an access token that has write permission in order to publish it to the HuggingFace Hub\n",
    "from huggingface_hub import login\n",
    "\n",
    "login()"
   ]
  },
  {
   "cell_type": "markdown",
   "id": "c511eccc",
   "metadata": {},
   "source": [
    "### Selecting a Playlist\n",
    "We will use smolagents in order to build an agent that is capable of searching the web using DuckDuckGo. \n",
    "\n",
    "We'll also use InferenceClientModel to use the default model of \"Qwen/Qwen2.5-Coder-32B-Instruct\""
   ]
  },
  {
   "cell_type": "code",
   "execution_count": 4,
   "id": "34778b2d",
   "metadata": {},
   "outputs": [
    {
     "data": {
      "text/html": [
       "<pre style=\"white-space:pre;overflow-x:auto;line-height:normal;font-family:Menlo,'DejaVu Sans Mono',consolas,'Courier New',monospace\"><span style=\"color: #d4b702; text-decoration-color: #d4b702\">╭──────────────────────────────────────────────────── </span><span style=\"color: #d4b702; text-decoration-color: #d4b702; font-weight: bold\">New run</span><span style=\"color: #d4b702; text-decoration-color: #d4b702\"> ────────────────────────────────────────────────────╮</span>\n",
       "<span style=\"color: #d4b702; text-decoration-color: #d4b702\">│</span>                                                                                                                 <span style=\"color: #d4b702; text-decoration-color: #d4b702\">│</span>\n",
       "<span style=\"color: #d4b702; text-decoration-color: #d4b702\">│</span> <span style=\"font-weight: bold\">Search for the best music recommendation from Clair Obscur Expedition 33</span>                                        <span style=\"color: #d4b702; text-decoration-color: #d4b702\">│</span>\n",
       "<span style=\"color: #d4b702; text-decoration-color: #d4b702\">│</span>                                                                                                                 <span style=\"color: #d4b702; text-decoration-color: #d4b702\">│</span>\n",
       "<span style=\"color: #d4b702; text-decoration-color: #d4b702\">╰─ InferenceClientModel - Qwen/Qwen2.5-Coder-32B-Instruct ────────────────────────────────────────────────────────╯</span>\n",
       "</pre>\n"
      ],
      "text/plain": [
       "\u001b[38;2;212;183;2m╭─\u001b[0m\u001b[38;2;212;183;2m───────────────────────────────────────────────────\u001b[0m\u001b[38;2;212;183;2m \u001b[0m\u001b[1;38;2;212;183;2mNew run\u001b[0m\u001b[38;2;212;183;2m \u001b[0m\u001b[38;2;212;183;2m───────────────────────────────────────────────────\u001b[0m\u001b[38;2;212;183;2m─╮\u001b[0m\n",
       "\u001b[38;2;212;183;2m│\u001b[0m                                                                                                                 \u001b[38;2;212;183;2m│\u001b[0m\n",
       "\u001b[38;2;212;183;2m│\u001b[0m \u001b[1mSearch for the best music recommendation from Clair Obscur Expedition 33\u001b[0m                                        \u001b[38;2;212;183;2m│\u001b[0m\n",
       "\u001b[38;2;212;183;2m│\u001b[0m                                                                                                                 \u001b[38;2;212;183;2m│\u001b[0m\n",
       "\u001b[38;2;212;183;2m╰─\u001b[0m\u001b[38;2;212;183;2m InferenceClientModel - Qwen/Qwen2.5-Coder-32B-Instruct \u001b[0m\u001b[38;2;212;183;2m───────────────────────────────────────────────────────\u001b[0m\u001b[38;2;212;183;2m─╯\u001b[0m\n"
      ]
     },
     "metadata": {},
     "output_type": "display_data"
    },
    {
     "data": {
      "text/html": [
       "<pre style=\"white-space:pre;overflow-x:auto;line-height:normal;font-family:Menlo,'DejaVu Sans Mono',consolas,'Courier New',monospace\"><span style=\"color: #d4b702; text-decoration-color: #d4b702\">━━━━━━━━━━━━━━━━━━━━━━━━━━━━━━━━━━━━━━━━━━━━━━━━━━━━━ </span><span style=\"font-weight: bold\">Step 1</span><span style=\"color: #d4b702; text-decoration-color: #d4b702\"> ━━━━━━━━━━━━━━━━━━━━━━━━━━━━━━━━━━━━━━━━━━━━━━━━━━━━━━</span>\n",
       "</pre>\n"
      ],
      "text/plain": [
       "\u001b[38;2;212;183;2m━━━━━━━━━━━━━━━━━━━━━━━━━━━━━━━━━━━━━━━━━━━━━━━━━━━━━ \u001b[0m\u001b[1mStep 1\u001b[0m\u001b[38;2;212;183;2m ━━━━━━━━━━━━━━━━━━━━━━━━━━━━━━━━━━━━━━━━━━━━━━━━━━━━━━\u001b[0m\n"
      ]
     },
     "metadata": {},
     "output_type": "display_data"
    },
    {
     "data": {
      "text/html": [
       "<pre style=\"white-space:pre;overflow-x:auto;line-height:normal;font-family:Menlo,'DejaVu Sans Mono',consolas,'Courier New',monospace\"> ─ <span style=\"font-weight: bold\">Executing parsed code:</span> ──────────────────────────────────────────────────────────────────────────────────────── \n",
       "  <span style=\"color: #f8f8f2; text-decoration-color: #f8f8f2; background-color: #272822\">search_results </span><span style=\"color: #ff4689; text-decoration-color: #ff4689; background-color: #272822\">=</span><span style=\"color: #f8f8f2; text-decoration-color: #f8f8f2; background-color: #272822\"> web_search(query</span><span style=\"color: #ff4689; text-decoration-color: #ff4689; background-color: #272822\">=</span><span style=\"color: #e6db74; text-decoration-color: #e6db74; background-color: #272822\">\"Clair Obscur Expedition 33 best track\"</span><span style=\"color: #f8f8f2; text-decoration-color: #f8f8f2; background-color: #272822\">)</span><span style=\"background-color: #272822\">                                     </span>  \n",
       "  <span style=\"color: #f8f8f2; text-decoration-color: #f8f8f2; background-color: #272822\">print(search_results)</span><span style=\"background-color: #272822\">                                                                                          </span>  \n",
       " ───────────────────────────────────────────────────────────────────────────────────────────────────────────────── \n",
       "</pre>\n"
      ],
      "text/plain": [
       " ─ \u001b[1mExecuting parsed code:\u001b[0m ──────────────────────────────────────────────────────────────────────────────────────── \n",
       "  \u001b[38;2;248;248;242;48;2;39;40;34msearch_results\u001b[0m\u001b[38;2;248;248;242;48;2;39;40;34m \u001b[0m\u001b[38;2;255;70;137;48;2;39;40;34m=\u001b[0m\u001b[38;2;248;248;242;48;2;39;40;34m \u001b[0m\u001b[38;2;248;248;242;48;2;39;40;34mweb_search\u001b[0m\u001b[38;2;248;248;242;48;2;39;40;34m(\u001b[0m\u001b[38;2;248;248;242;48;2;39;40;34mquery\u001b[0m\u001b[38;2;255;70;137;48;2;39;40;34m=\u001b[0m\u001b[38;2;230;219;116;48;2;39;40;34m\"\u001b[0m\u001b[38;2;230;219;116;48;2;39;40;34mClair Obscur Expedition 33 best track\u001b[0m\u001b[38;2;230;219;116;48;2;39;40;34m\"\u001b[0m\u001b[38;2;248;248;242;48;2;39;40;34m)\u001b[0m\u001b[48;2;39;40;34m                                     \u001b[0m  \n",
       "  \u001b[38;2;248;248;242;48;2;39;40;34mprint\u001b[0m\u001b[38;2;248;248;242;48;2;39;40;34m(\u001b[0m\u001b[38;2;248;248;242;48;2;39;40;34msearch_results\u001b[0m\u001b[38;2;248;248;242;48;2;39;40;34m)\u001b[0m\u001b[48;2;39;40;34m                                                                                          \u001b[0m  \n",
       " ───────────────────────────────────────────────────────────────────────────────────────────────────────────────── \n"
      ]
     },
     "metadata": {},
     "output_type": "display_data"
    },
    {
     "data": {
      "text/html": [
       "<pre style=\"white-space:pre;overflow-x:auto;line-height:normal;font-family:Menlo,'DejaVu Sans Mono',consolas,'Courier New',monospace\"><span style=\"font-weight: bold\">Execution logs:</span>\n",
       "## Search Results\n",
       "\n",
       "[Interactive Map | Expedition 33 Wiki](https://expedition33.wiki.fextralife.com/Interactive+Map)\n",
       "Clair Obscur Expedition 33 's Interactive Map offers a comprehensive guide to items, locations, and key points of \n",
       "interest across The Continent.\n",
       "\n",
       "[YouTuber beats Clair Obscur : Expedition 33 without dodging \n",
       "or...](https://www.polygon.com/youtube-ymfah-beats-clair-obscur-expedition-33-all-hit-run/)\n",
       "Instead of a speedrun, this YouTuber completed a patience run of Clair Obscur : Expedition 33 .Aside from being \n",
       "wildly entertaining, there are some good tips for builds and strategies in there for your next Clair Obscur \n",
       "playthrough (all hit or otherwise).\n",
       "\n",
       "[Best Solo Build In Clair Obscur : Expedition 33 (Weapon, \n",
       "Skills...)](https://screenrant.com/clair-obscur-expedition-33-best-solo-build/)\n",
       "Maelle from Clair Obscur is easily the best candidate for a solo build due to one unique skill that only becomes \n",
       "available in Act 3: Stendhal. Best Weapon &amp; Attributes For A Solo Maelle Build In Clair Obscur : Expedition 33 . \n",
       "Maelle's Medalum Starts You In Virtuose Stance.\n",
       "\n",
       "[Complete Clair Obscur Expedition 33 Renoir's Guide August \n",
       "2025](https://www.ofzenandcomputing.com/renoirs-drafts-collectibles-guide/)\n",
       "Master all 15+ Renoir's Drafts collectibles in Clair Obscur Expedition 33 . Get weapons, Pictos, Music Records &amp; \n",
       "defeat Simon with expert tips 2025.\n",
       "\n",
       "[Как победить Симона в Clair Obscur : Expedition \n",
       "33](https://www.PlayGround.ru/clair_obscur_expedition_33/guide/kak_pobedit_simona_v_clair_obscur_expedition_33-1769\n",
       "799)\n",
       "Clair Obscur : Expedition 33 — это не просто пошаговая ролевая игра, а художественно оформленное философское \n",
       "произведение, где каждое движение пера определяет не только исход боя, но и судьбу героев.\n",
       "\n",
       "[Renoir’s Drafts Collectibles Guide – Clair Obscur Expedition \n",
       "33](https://www.fdaytalk.com/clair-obscur-expedition-33-renoirs-drafts-collectibles-guide/)\n",
       "See also: Clair Obscur : Expedition 33 ’s Hardest Challenges – Brutal Minigames, Secret Bosses &amp; How to Beat \n",
       "Them.With this guide, you can secure 100% of Renoir’s Drafts collectibles in Clair Obscur : Expedition 33 .\n",
       "\n",
       "[Билды всех персонажей, параметры и отряды в Clair Obscur \n",
       "...](https://wotpack.ru/bildy-vseh-personazhey-v-clair-obscur-expedition-33-parametry-otryady-i-sborki/)\n",
       "Билды всех персонажей в Clair Obscur Expedition 33 : параметры, отряды и сборки.\n",
       "\n",
       "[Baldur's Gate 3 Performance Director Praises 'Beautiful' Clair \n",
       "Ob...](https://gamerant.com/baldurs-gate-3-performance-director-clair-obscur-expedition-33/)\n",
       "Clair Obscur : Expedition 33 is a turn-based RPG set in a fantasy world inspired by the European Belle Epoque. \n",
       "Every year, the Paintress wakes up to paint a number on her monolith, indicating the age of people who then \n",
       "mysteriously turn into a pile of flower petals.\n",
       "\n",
       "[Cyberpunk 2077 boss says Clair Obscur : Expedition 33 has... - \n",
       "FRVR](https://frvr.com/blog/news/cyberpunk-2077-boss-clair-obscur-expedition-33-absolutely-blown-away/)\n",
       "Clair Obscur : Expedition 33 Maelle standing next to Gustave.When asked if he has been able to best the additional \n",
       "boss, he responded: “Sadly, nope.” Clair Obscur : Expedition 33 is not only one of the best games of the \n",
       "generation, but one of the most unique.\n",
       "\n",
       "[Reactiom to Expedition 33 Soundtrack | \n",
       "TikTok](https://www.tiktok.com/discover/reactiom-to-expedition-33-soundtrack)\n",
       "GOTY. #clairobscurexpedition 33 # expedition 33 #fyp ##gaming GOTY Game Surprises with Best Track of 2025. Discover\n",
       "the unexpected best track in the GOTY game.Discover the best jazz soundtrack from Clair Obscur Expedition 33 that \n",
       "enhances your gaming experience.\n",
       "\n",
       "Out: None\n",
       "</pre>\n"
      ],
      "text/plain": [
       "\u001b[1mExecution logs:\u001b[0m\n",
       "## Search Results\n",
       "\n",
       "[Interactive Map | Expedition 33 Wiki](https://expedition33.wiki.fextralife.com/Interactive+Map)\n",
       "Clair Obscur Expedition 33 's Interactive Map offers a comprehensive guide to items, locations, and key points of \n",
       "interest across The Continent.\n",
       "\n",
       "[YouTuber beats Clair Obscur : Expedition 33 without dodging \n",
       "or...](https://www.polygon.com/youtube-ymfah-beats-clair-obscur-expedition-33-all-hit-run/)\n",
       "Instead of a speedrun, this YouTuber completed a patience run of Clair Obscur : Expedition 33 .Aside from being \n",
       "wildly entertaining, there are some good tips for builds and strategies in there for your next Clair Obscur \n",
       "playthrough (all hit or otherwise).\n",
       "\n",
       "[Best Solo Build In Clair Obscur : Expedition 33 (Weapon, \n",
       "Skills...)](https://screenrant.com/clair-obscur-expedition-33-best-solo-build/)\n",
       "Maelle from Clair Obscur is easily the best candidate for a solo build due to one unique skill that only becomes \n",
       "available in Act 3: Stendhal. Best Weapon & Attributes For A Solo Maelle Build In Clair Obscur : Expedition 33 . \n",
       "Maelle's Medalum Starts You In Virtuose Stance.\n",
       "\n",
       "[Complete Clair Obscur Expedition 33 Renoir's Guide August \n",
       "2025](https://www.ofzenandcomputing.com/renoirs-drafts-collectibles-guide/)\n",
       "Master all 15+ Renoir's Drafts collectibles in Clair Obscur Expedition 33 . Get weapons, Pictos, Music Records & \n",
       "defeat Simon with expert tips 2025.\n",
       "\n",
       "[Как победить Симона в Clair Obscur : Expedition \n",
       "33](https://www.PlayGround.ru/clair_obscur_expedition_33/guide/kak_pobedit_simona_v_clair_obscur_expedition_33-1769\n",
       "799)\n",
       "Clair Obscur : Expedition 33 — это не просто пошаговая ролевая игра, а художественно оформленное философское \n",
       "произведение, где каждое движение пера определяет не только исход боя, но и судьбу героев.\n",
       "\n",
       "[Renoir’s Drafts Collectibles Guide – Clair Obscur Expedition \n",
       "33](https://www.fdaytalk.com/clair-obscur-expedition-33-renoirs-drafts-collectibles-guide/)\n",
       "See also: Clair Obscur : Expedition 33 ’s Hardest Challenges – Brutal Minigames, Secret Bosses & How to Beat \n",
       "Them.With this guide, you can secure 100% of Renoir’s Drafts collectibles in Clair Obscur : Expedition 33 .\n",
       "\n",
       "[Билды всех персонажей, параметры и отряды в Clair Obscur \n",
       "...](https://wotpack.ru/bildy-vseh-personazhey-v-clair-obscur-expedition-33-parametry-otryady-i-sborki/)\n",
       "Билды всех персонажей в Clair Obscur Expedition 33 : параметры, отряды и сборки.\n",
       "\n",
       "[Baldur's Gate 3 Performance Director Praises 'Beautiful' Clair \n",
       "Ob...](https://gamerant.com/baldurs-gate-3-performance-director-clair-obscur-expedition-33/)\n",
       "Clair Obscur : Expedition 33 is a turn-based RPG set in a fantasy world inspired by the European Belle Epoque. \n",
       "Every year, the Paintress wakes up to paint a number on her monolith, indicating the age of people who then \n",
       "mysteriously turn into a pile of flower petals.\n",
       "\n",
       "[Cyberpunk 2077 boss says Clair Obscur : Expedition 33 has... - \n",
       "FRVR](https://frvr.com/blog/news/cyberpunk-2077-boss-clair-obscur-expedition-33-absolutely-blown-away/)\n",
       "Clair Obscur : Expedition 33 Maelle standing next to Gustave.When asked if he has been able to best the additional \n",
       "boss, he responded: “Sadly, nope.” Clair Obscur : Expedition 33 is not only one of the best games of the \n",
       "generation, but one of the most unique.\n",
       "\n",
       "[Reactiom to Expedition 33 Soundtrack | \n",
       "TikTok](https://www.tiktok.com/discover/reactiom-to-expedition-33-soundtrack)\n",
       "GOTY. #clairobscurexpedition 33 # expedition 33 #fyp ##gaming GOTY Game Surprises with Best Track of 2025. Discover\n",
       "the unexpected best track in the GOTY game.Discover the best jazz soundtrack from Clair Obscur Expedition 33 that \n",
       "enhances your gaming experience.\n",
       "\n",
       "Out: None\n"
      ]
     },
     "metadata": {},
     "output_type": "display_data"
    },
    {
     "data": {
      "text/html": [
       "<pre style=\"white-space:pre;overflow-x:auto;line-height:normal;font-family:Menlo,'DejaVu Sans Mono',consolas,'Courier New',monospace\"><span style=\"color: #7f7f7f; text-decoration-color: #7f7f7f\">[Step 1: Duration 6.08 seconds| Input tokens: 2,001 | Output tokens: 67]</span>\n",
       "</pre>\n"
      ],
      "text/plain": [
       "\u001b[2m[Step 1: Duration 6.08 seconds| Input tokens: 2,001 | Output tokens: 67]\u001b[0m\n"
      ]
     },
     "metadata": {},
     "output_type": "display_data"
    },
    {
     "data": {
      "text/html": [
       "<pre style=\"white-space:pre;overflow-x:auto;line-height:normal;font-family:Menlo,'DejaVu Sans Mono',consolas,'Courier New',monospace\"><span style=\"color: #d4b702; text-decoration-color: #d4b702\">━━━━━━━━━━━━━━━━━━━━━━━━━━━━━━━━━━━━━━━━━━━━━━━━━━━━━ </span><span style=\"font-weight: bold\">Step 2</span><span style=\"color: #d4b702; text-decoration-color: #d4b702\"> ━━━━━━━━━━━━━━━━━━━━━━━━━━━━━━━━━━━━━━━━━━━━━━━━━━━━━━</span>\n",
       "</pre>\n"
      ],
      "text/plain": [
       "\u001b[38;2;212;183;2m━━━━━━━━━━━━━━━━━━━━━━━━━━━━━━━━━━━━━━━━━━━━━━━━━━━━━ \u001b[0m\u001b[1mStep 2\u001b[0m\u001b[38;2;212;183;2m ━━━━━━━━━━━━━━━━━━━━━━━━━━━━━━━━━━━━━━━━━━━━━━━━━━━━━━\u001b[0m\n"
      ]
     },
     "metadata": {},
     "output_type": "display_data"
    },
    {
     "data": {
      "text/html": [
       "<pre style=\"white-space:pre;overflow-x:auto;line-height:normal;font-family:Menlo,'DejaVu Sans Mono',consolas,'Courier New',monospace\"> ─ <span style=\"font-weight: bold\">Executing parsed code:</span> ──────────────────────────────────────────────────────────────────────────────────────── \n",
       "  <span style=\"color: #f8f8f2; text-decoration-color: #f8f8f2; background-color: #272822\">search_results </span><span style=\"color: #ff4689; text-decoration-color: #ff4689; background-color: #272822\">=</span><span style=\"color: #f8f8f2; text-decoration-color: #f8f8f2; background-color: #272822\"> web_search(query</span><span style=\"color: #ff4689; text-decoration-color: #ff4689; background-color: #272822\">=</span><span style=\"color: #e6db74; text-decoration-color: #e6db74; background-color: #272822\">\"Clair Obscur Expedition 33 soundtrack best track\"</span><span style=\"color: #f8f8f2; text-decoration-color: #f8f8f2; background-color: #272822\">)</span><span style=\"background-color: #272822\">                          </span>  \n",
       "  <span style=\"color: #f8f8f2; text-decoration-color: #f8f8f2; background-color: #272822\">print(search_results)</span><span style=\"background-color: #272822\">                                                                                          </span>  \n",
       " ───────────────────────────────────────────────────────────────────────────────────────────────────────────────── \n",
       "</pre>\n"
      ],
      "text/plain": [
       " ─ \u001b[1mExecuting parsed code:\u001b[0m ──────────────────────────────────────────────────────────────────────────────────────── \n",
       "  \u001b[38;2;248;248;242;48;2;39;40;34msearch_results\u001b[0m\u001b[38;2;248;248;242;48;2;39;40;34m \u001b[0m\u001b[38;2;255;70;137;48;2;39;40;34m=\u001b[0m\u001b[38;2;248;248;242;48;2;39;40;34m \u001b[0m\u001b[38;2;248;248;242;48;2;39;40;34mweb_search\u001b[0m\u001b[38;2;248;248;242;48;2;39;40;34m(\u001b[0m\u001b[38;2;248;248;242;48;2;39;40;34mquery\u001b[0m\u001b[38;2;255;70;137;48;2;39;40;34m=\u001b[0m\u001b[38;2;230;219;116;48;2;39;40;34m\"\u001b[0m\u001b[38;2;230;219;116;48;2;39;40;34mClair Obscur Expedition 33 soundtrack best track\u001b[0m\u001b[38;2;230;219;116;48;2;39;40;34m\"\u001b[0m\u001b[38;2;248;248;242;48;2;39;40;34m)\u001b[0m\u001b[48;2;39;40;34m                          \u001b[0m  \n",
       "  \u001b[38;2;248;248;242;48;2;39;40;34mprint\u001b[0m\u001b[38;2;248;248;242;48;2;39;40;34m(\u001b[0m\u001b[38;2;248;248;242;48;2;39;40;34msearch_results\u001b[0m\u001b[38;2;248;248;242;48;2;39;40;34m)\u001b[0m\u001b[48;2;39;40;34m                                                                                          \u001b[0m  \n",
       " ───────────────────────────────────────────────────────────────────────────────────────────────────────────────── \n"
      ]
     },
     "metadata": {},
     "output_type": "display_data"
    },
    {
     "data": {
      "text/html": [
       "<pre style=\"white-space:pre;overflow-x:auto;line-height:normal;font-family:Menlo,'DejaVu Sans Mono',consolas,'Courier New',monospace\"><span style=\"font-weight: bold\">Execution logs:</span>\n",
       "## Search Results\n",
       "\n",
       "[Clair Obscur: Expedition 33 soundtrack pre-orders \n",
       "live,](https://www.eurogamer.net/clair-obscur-expedition-33-soundtrack-pre-orders-live-offering-up-to-179-tracks)\n",
       "I ’ m very happy to announce these Clair Obscur : Expedition 33 physical soundtrack sets, ” composer Lorien Testard\n",
       "said in a press ...\n",
       "\n",
       "[‘Clair Obscur: Expedition 33’ soundtrack is heading to \n",
       "vinyl](https://www.nme.com/news/gaming-news/clair-obscur-expedition-33-soundtrack-vinyl-new-songs-stream-now-388066\n",
       "3)\n",
       "Both versions of the Clair Obscur : Expedition 33 vinyl soundtrack will have sleeve artwork created by the game’s \n",
       "Art Director, Nicholas Maxson ...\n",
       "\n",
       "[Clair Obscur: Expedition 33 • Original Soundtrack • \n",
       "LP](https://blackscreenrecords.com/products/clair-obscur-expedition-33-box-set)\n",
       "... soundtrack for Clair Obscur : Expedition 33 to vinyl and CD. This 6LP box set has been thoughtfully sequenced \n",
       "by Testard to honour the game’s ...\n",
       "\n",
       "[Clair Obscur: Expedition 33's Sublime Soundtrack Gets \n",
       "CD,](https://www.pushsquare.com/news/2025/07/clair-obscur-expedition-33s-sublime-soundtrack-gets-cd-vinyl-release)\n",
       "Pre-orders are open for Clair Obscur : Expedition 33 soundtrack sets: https://t.co/sYtaClu34f 🥀 6LP box set 👩🎨 \n",
       "2LP double vinyl 💿 8CD ...\n",
       "\n",
       "[Clair Obscur: Expedition 33 soundtrack tops 33 million \n",
       "streams](https://automaton-media.com/en/news/clair-obscur-expedition-33-soundtrack-tops-33-million-streams-worldwid\n",
       "e/)\n",
       "Despite not having worked on a video game soundtrack prior to Clair Obscur : Expedition 33 ( source: BBC ), Testard\n",
       "was more than willing to ...\n",
       "\n",
       "[It Is That Good! The Clair Obscur Expedition 33 Soundtrack \n",
       "Just](https://n4g.com/articles/clair-obscur-expedition-33-it-is-that-good-the-soundtrack-just-reached-a-perfect-num\n",
       "ber-of-streams/)\n",
       "The devs have just revealed that the official soundtrack for Clair Obscur : Expedition 33 has reached 33 million \n",
       "streams.\n",
       "\n",
       "[Clair Obscur Expedition 33 Getting Special Vinyl \n",
       "Soundtrack](https://gameranx.com/updates/id/545313/article/clair-obscur-expedition-33-getting-special-vinyl-soundtr\n",
       "ack-release/)\n",
       "If you somehow haven’t heard at this point, Clair Obscur Expedition 33 is easily one of the best games of 2025. ...\n",
       "Clair Obscur Expedition 33 ...\n",
       "\n",
       "[Clair Obscur: Expedition 33 Soundtrack Surpasses 1.5 \n",
       "Million](https://noisypixel.net/clair-obscur-expedition-33-soundtrack-1-5-million-streams/)\n",
       "The Clair Obscur : @expedition33 soundtrack has passed 1.5m track streams on music services and is the selling \n",
       "album on Bandcamp this week.\n",
       "\n",
       "[Clair Obscur: Expedition 33 Success Continues as Its \n",
       "Soundtrack](https://www.ign.com/articles/clair-obscur-expedition-33-success-continues-as-its-soundtrack-tops-billbo\n",
       "ard-classical-music-album-charts)\n",
       "The Clair Obscur : Expedition 33 soundtrack is comprised of more than 150 individual tracks , with many boasting \n",
       "hundreds of thousands of streams on ...\n",
       "\n",
       "[Clair Obscur: Expedition 33 (Original Soundtrack), \n",
       "Lorien](https://www.qobuz.com/us-en/album/clair-obscur-expedition-33-original-soundtrack-lorien-testard/ipjxnayoe1y\n",
       "1a)\n",
       "Clair Obscur : Expedition 33 (Original Soundtrack ) ... Lorien Testard| Clair Obscur : Expedition 33 (Original \n",
       "Soundtrack )\n",
       "\n",
       "Out: None\n",
       "</pre>\n"
      ],
      "text/plain": [
       "\u001b[1mExecution logs:\u001b[0m\n",
       "## Search Results\n",
       "\n",
       "[Clair Obscur: Expedition 33 soundtrack pre-orders \n",
       "live,](https://www.eurogamer.net/clair-obscur-expedition-33-soundtrack-pre-orders-live-offering-up-to-179-tracks)\n",
       "I ’ m very happy to announce these Clair Obscur : Expedition 33 physical soundtrack sets, ” composer Lorien Testard\n",
       "said in a press ...\n",
       "\n",
       "[‘Clair Obscur: Expedition 33’ soundtrack is heading to \n",
       "vinyl](https://www.nme.com/news/gaming-news/clair-obscur-expedition-33-soundtrack-vinyl-new-songs-stream-now-388066\n",
       "3)\n",
       "Both versions of the Clair Obscur : Expedition 33 vinyl soundtrack will have sleeve artwork created by the game’s \n",
       "Art Director, Nicholas Maxson ...\n",
       "\n",
       "[Clair Obscur: Expedition 33 • Original Soundtrack • \n",
       "LP](https://blackscreenrecords.com/products/clair-obscur-expedition-33-box-set)\n",
       "... soundtrack for Clair Obscur : Expedition 33 to vinyl and CD. This 6LP box set has been thoughtfully sequenced \n",
       "by Testard to honour the game’s ...\n",
       "\n",
       "[Clair Obscur: Expedition 33's Sublime Soundtrack Gets \n",
       "CD,](https://www.pushsquare.com/news/2025/07/clair-obscur-expedition-33s-sublime-soundtrack-gets-cd-vinyl-release)\n",
       "Pre-orders are open for Clair Obscur : Expedition 33 soundtrack sets: https://t.co/sYtaClu34f 🥀 6LP box set 👩🎨 \n",
       "2LP double vinyl 💿 8CD ...\n",
       "\n",
       "[Clair Obscur: Expedition 33 soundtrack tops 33 million \n",
       "streams](https://automaton-media.com/en/news/clair-obscur-expedition-33-soundtrack-tops-33-million-streams-worldwid\n",
       "e/)\n",
       "Despite not having worked on a video game soundtrack prior to Clair Obscur : Expedition 33 ( source: BBC ), Testard\n",
       "was more than willing to ...\n",
       "\n",
       "[It Is That Good! The Clair Obscur Expedition 33 Soundtrack \n",
       "Just](https://n4g.com/articles/clair-obscur-expedition-33-it-is-that-good-the-soundtrack-just-reached-a-perfect-num\n",
       "ber-of-streams/)\n",
       "The devs have just revealed that the official soundtrack for Clair Obscur : Expedition 33 has reached 33 million \n",
       "streams.\n",
       "\n",
       "[Clair Obscur Expedition 33 Getting Special Vinyl \n",
       "Soundtrack](https://gameranx.com/updates/id/545313/article/clair-obscur-expedition-33-getting-special-vinyl-soundtr\n",
       "ack-release/)\n",
       "If you somehow haven’t heard at this point, Clair Obscur Expedition 33 is easily one of the best games of 2025. ...\n",
       "Clair Obscur Expedition 33 ...\n",
       "\n",
       "[Clair Obscur: Expedition 33 Soundtrack Surpasses 1.5 \n",
       "Million](https://noisypixel.net/clair-obscur-expedition-33-soundtrack-1-5-million-streams/)\n",
       "The Clair Obscur : @expedition33 soundtrack has passed 1.5m track streams on music services and is the selling \n",
       "album on Bandcamp this week.\n",
       "\n",
       "[Clair Obscur: Expedition 33 Success Continues as Its \n",
       "Soundtrack](https://www.ign.com/articles/clair-obscur-expedition-33-success-continues-as-its-soundtrack-tops-billbo\n",
       "ard-classical-music-album-charts)\n",
       "The Clair Obscur : Expedition 33 soundtrack is comprised of more than 150 individual tracks , with many boasting \n",
       "hundreds of thousands of streams on ...\n",
       "\n",
       "[Clair Obscur: Expedition 33 (Original Soundtrack), \n",
       "Lorien](https://www.qobuz.com/us-en/album/clair-obscur-expedition-33-original-soundtrack-lorien-testard/ipjxnayoe1y\n",
       "1a)\n",
       "Clair Obscur : Expedition 33 (Original Soundtrack ) ... Lorien Testard| Clair Obscur : Expedition 33 (Original \n",
       "Soundtrack )\n",
       "\n",
       "Out: None\n"
      ]
     },
     "metadata": {},
     "output_type": "display_data"
    },
    {
     "data": {
      "text/html": [
       "<pre style=\"white-space:pre;overflow-x:auto;line-height:normal;font-family:Menlo,'DejaVu Sans Mono',consolas,'Courier New',monospace\"><span style=\"color: #7f7f7f; text-decoration-color: #7f7f7f\">[Step 2: Duration 3.43 seconds| Input tokens: 5,169 | Output tokens: 155]</span>\n",
       "</pre>\n"
      ],
      "text/plain": [
       "\u001b[2m[Step 2: Duration 3.43 seconds| Input tokens: 5,169 | Output tokens: 155]\u001b[0m\n"
      ]
     },
     "metadata": {},
     "output_type": "display_data"
    },
    {
     "data": {
      "text/html": [
       "<pre style=\"white-space:pre;overflow-x:auto;line-height:normal;font-family:Menlo,'DejaVu Sans Mono',consolas,'Courier New',monospace\"><span style=\"color: #d4b702; text-decoration-color: #d4b702\">━━━━━━━━━━━━━━━━━━━━━━━━━━━━━━━━━━━━━━━━━━━━━━━━━━━━━ </span><span style=\"font-weight: bold\">Step 3</span><span style=\"color: #d4b702; text-decoration-color: #d4b702\"> ━━━━━━━━━━━━━━━━━━━━━━━━━━━━━━━━━━━━━━━━━━━━━━━━━━━━━━</span>\n",
       "</pre>\n"
      ],
      "text/plain": [
       "\u001b[38;2;212;183;2m━━━━━━━━━━━━━━━━━━━━━━━━━━━━━━━━━━━━━━━━━━━━━━━━━━━━━ \u001b[0m\u001b[1mStep 3\u001b[0m\u001b[38;2;212;183;2m ━━━━━━━━━━━━━━━━━━━━━━━━━━━━━━━━━━━━━━━━━━━━━━━━━━━━━━\u001b[0m\n"
      ]
     },
     "metadata": {},
     "output_type": "display_data"
    },
    {
     "data": {
      "text/html": [
       "<pre style=\"white-space:pre;overflow-x:auto;line-height:normal;font-family:Menlo,'DejaVu Sans Mono',consolas,'Courier New',monospace\"> ─ <span style=\"font-weight: bold\">Executing parsed code:</span> ──────────────────────────────────────────────────────────────────────────────────────── \n",
       "  <span style=\"color: #f8f8f2; text-decoration-color: #f8f8f2; background-color: #272822\">search_results </span><span style=\"color: #ff4689; text-decoration-color: #ff4689; background-color: #272822\">=</span><span style=\"color: #f8f8f2; text-decoration-color: #f8f8f2; background-color: #272822\"> web_search(query</span><span style=\"color: #ff4689; text-decoration-color: #ff4689; background-color: #272822\">=</span><span style=\"color: #e6db74; text-decoration-color: #e6db74; background-color: #272822\">\"Clair Obscur Expedition 33 soundtrack track reviews\"</span><span style=\"color: #f8f8f2; text-decoration-color: #f8f8f2; background-color: #272822\">)</span><span style=\"background-color: #272822\">                       </span>  \n",
       "  <span style=\"color: #f8f8f2; text-decoration-color: #f8f8f2; background-color: #272822\">print(search_results)</span><span style=\"background-color: #272822\">                                                                                          </span>  \n",
       " ───────────────────────────────────────────────────────────────────────────────────────────────────────────────── \n",
       "</pre>\n"
      ],
      "text/plain": [
       " ─ \u001b[1mExecuting parsed code:\u001b[0m ──────────────────────────────────────────────────────────────────────────────────────── \n",
       "  \u001b[38;2;248;248;242;48;2;39;40;34msearch_results\u001b[0m\u001b[38;2;248;248;242;48;2;39;40;34m \u001b[0m\u001b[38;2;255;70;137;48;2;39;40;34m=\u001b[0m\u001b[38;2;248;248;242;48;2;39;40;34m \u001b[0m\u001b[38;2;248;248;242;48;2;39;40;34mweb_search\u001b[0m\u001b[38;2;248;248;242;48;2;39;40;34m(\u001b[0m\u001b[38;2;248;248;242;48;2;39;40;34mquery\u001b[0m\u001b[38;2;255;70;137;48;2;39;40;34m=\u001b[0m\u001b[38;2;230;219;116;48;2;39;40;34m\"\u001b[0m\u001b[38;2;230;219;116;48;2;39;40;34mClair Obscur Expedition 33 soundtrack track reviews\u001b[0m\u001b[38;2;230;219;116;48;2;39;40;34m\"\u001b[0m\u001b[38;2;248;248;242;48;2;39;40;34m)\u001b[0m\u001b[48;2;39;40;34m                       \u001b[0m  \n",
       "  \u001b[38;2;248;248;242;48;2;39;40;34mprint\u001b[0m\u001b[38;2;248;248;242;48;2;39;40;34m(\u001b[0m\u001b[38;2;248;248;242;48;2;39;40;34msearch_results\u001b[0m\u001b[38;2;248;248;242;48;2;39;40;34m)\u001b[0m\u001b[48;2;39;40;34m                                                                                          \u001b[0m  \n",
       " ───────────────────────────────────────────────────────────────────────────────────────────────────────────────── \n"
      ]
     },
     "metadata": {},
     "output_type": "display_data"
    },
    {
     "data": {
      "text/html": [
       "<pre style=\"white-space:pre;overflow-x:auto;line-height:normal;font-family:Menlo,'DejaVu Sans Mono',consolas,'Courier New',monospace\"><span style=\"font-weight: bold\">Execution logs:</span>\n",
       "## Search Results\n",
       "\n",
       "[Clair Obscure Expedition 33 - Various Artists &amp; \n",
       "Soundtracks](https://www.bing.com/aclick?ld=e8HNuQY0f6iwQKTUTXqJ7m8DVUCUxAexEXmr72ohfzCJVznYJri6PlX9H2uG9fPNCp-h-3F\n",
       "LaBa-o0cdfeQVsBCnrc06xU2q8Xv6PuOhi2No9WJ23oLFISGRxGozYHkwznS6JF54wyVPwlmwfpMK2R8GmcatiJVgI-5jjPTfTNCKv6K69uNGGwZBHB\n",
       "iUQS4aW6krOj_A&amp;u=aHR0cHMlM2ElMmYlMmZ3d3cuYW1hem9uLmNvbSUyZnMlMmYlM2ZpZSUzZFVURjglMjZrZXl3b3JkcyUzZGNsYWlyJTJib2JzY3\n",
       "VyZSUyYmV4cGVkaXRpb24lMmIzMyUyNmluZGV4JTNkYXBzJTI2dGFnJTNkbWgwYi0yMCUyNnJlZiUzZHBkX3NsXzZmemF5cDI2eTJfcCUyNmFkZ3Jwa\n",
       "WQlM2QxMzQyNTA2MjEwNzA2ODI3JTI2aHZhZGlkJTNkODM5MDY5MTM3MjM5MDQlMjZodm5ldHclM2RvJTI2aHZxbXQlM2RwJTI2aHZibXQlM2RicCUy\n",
       "Nmh2ZGV2JTNkYyUyNmh2bG9jaW50JTNkJTI2aHZsb2NwaHklM2QxNTI4OTMlMjZodnRhcmdpZCUzZGt3ZC04MzkwNzc5NTA2NDYxNiUzYWxvYy0xNDQ\n",
       "lMjZoeWRhZGNyJTNkMTQxNjFfMTM0MDM3NTIlMjZtY2lkJTNkNTdkYzliYzc3NTYyMzcyYmFlNzgxZDlmNDcwNzI1YWIlMjZtc2Nsa2lkJTNkMDBhMm\n",
       "Q3ZTRjZGRhMTM3MWJjMGFiZjQwODI3NGExZDY&amp;rlid=00a2d7e4cdda1371bc0abf408274a1d6)\n",
       "Filter Music By Genre, Artist, Album, Reviews , Ratings and More At Amazon. Get Deals and Low Prices On Clair \n",
       "Obscure Expedition 33 At Amazon\n",
       "\n",
       "[Clair Obscur: Expedition 33 Original Soundtrack Music Review \n",
       "...](https://www.rpgfan.com/music-review/clair-obscur-expedition-33-original-soundtrack/)\n",
       "May 10, 2025 · Friends, I have only begun to scratch the surface of the massive Clair Obscur : Expedition 33 \n",
       "Original Soundtrack . Given that it is presently available through multiple streaming services, I encourage people \n",
       "to check this one out.\n",
       "\n",
       "[The Best Songs In Clair Obscur: Expedition 33 - Game \n",
       "Rant](https://gamerant.com/clair-obscur-expedition-33-best-soundtrack-songs/)\n",
       "May 14, 2025 · Lumière, Alicia, and Lost Voice are standout tracks in Clair Obscur ' s soundtrack . The music \n",
       "complements the gameplay, setting the tone for emotional and intense moments. Unique tracks...\n",
       "\n",
       "[Clair Obscur: Expedition 33 Soundtrack Vinyl &amp; CD \n",
       "Review](https://arclineusa.com/blogs/news/clair-obscur-expedition-33-soundtrack-vinyl-review)\n",
       "Jun 19, 2025 · Explore the sweeping 8-hour soundtrack of Clair Obscur : Expedition 33 . Learn why this French RPG’s\n",
       "OST is charting globally, what fans are saying.\n",
       "\n",
       "[Why the Clair Obscur: Expedition 33 OST is a Must-Listen \n",
       "...](https://leveluptalk.com/news/clair-obscur-expedition-33-soundtrack-review/)\n",
       "Jul 22, 2025 · Fans can’t stop raving about the soundtrack of Clair Obscur : Expedition 33 , with many stating it \n",
       "elevates the gaming experience. Players shared on forums that they’ve listened to the original score non-stop and \n",
       "praised it as a standout feature. However, the mini-games have sparked some criticism.\n",
       "\n",
       "[Clair Obscur Expedition 33’s soundtrack is secretly one of \n",
       "...](https://www.dexerto.com/gaming/clair-obscur-expedition-33s-soundtrack-is-secretly-one-of-its-biggest-triumphs-\n",
       "3186131/)\n",
       "Apr 26, 2025 · Clair Obscur is being praised for a lot of reasons, but its original soundtrack is something truly \n",
       "special that shouldn’t go unnoticed.\n",
       "\n",
       "[Clair Obscur: Expedition 33 Original Soundtrack - \n",
       "amazon.com](https://www.amazon.com/Clair-Obscur-Expedition-Original-Soundtrack/dp/B0FJSG1P2T)\n",
       "Jul 25, 2025 · This double LP has been thoughtfully sequenced by Testard, featuring an essential selection of \n",
       "tracks from the soundtrack such as Lumière, Une vie à peindre, and main character themes.\n",
       "\n",
       "[Lorien Testard - Clair Obscur: Expedition 33 Original \n",
       "...](https://www.sputnikmusic.com/review/89975/Lorien-Testard-Clair-Obscur-Expedition-33-Original-Sountrack/)\n",
       "Apr 24, 2025 · Even those pieces belong in the world of Clair Obscur , but there’s no denying an 8+ hour soundtrack\n",
       "isn’t the easiest thing to approach outside of the context of the game. And despite all the praise I’ve thrown at \n",
       "it, it’s not forging some new genre or toying with crazy experimental elements.\n",
       "\n",
       "[Clair Obscur: Expedition 33 Soundtrack Topped 2 \n",
       "Billboard](https://www.siliconera.com/clair-obscur-expedition-33-soundtrack-topped-2-billboard-charts/)\n",
       "Billboard updated its charts for the week, and the Clair Obscur : Expedition 33 game soundtrack hit the number one \n",
       "spots in both the Classical Albums ...\n",
       "\n",
       "[Clair Obscur: Expedition 33 soundtrack pre-orders \n",
       "live,](https://www.eurogamer.net/clair-obscur-expedition-33-soundtrack-pre-orders-live-offering-up-to-179-tracks)\n",
       "I ’ m very happy to announce these Clair Obscur : Expedition 33 physical soundtrack sets, ” composer Lorien Testard\n",
       "said in a press ...\n",
       "\n",
       "Out: None\n",
       "</pre>\n"
      ],
      "text/plain": [
       "\u001b[1mExecution logs:\u001b[0m\n",
       "## Search Results\n",
       "\n",
       "[Clair Obscure Expedition 33 - Various Artists & \n",
       "Soundtracks](https://www.bing.com/aclick?ld=e8HNuQY0f6iwQKTUTXqJ7m8DVUCUxAexEXmr72ohfzCJVznYJri6PlX9H2uG9fPNCp-h-3F\n",
       "LaBa-o0cdfeQVsBCnrc06xU2q8Xv6PuOhi2No9WJ23oLFISGRxGozYHkwznS6JF54wyVPwlmwfpMK2R8GmcatiJVgI-5jjPTfTNCKv6K69uNGGwZBHB\n",
       "iUQS4aW6krOj_A&u=aHR0cHMlM2ElMmYlMmZ3d3cuYW1hem9uLmNvbSUyZnMlMmYlM2ZpZSUzZFVURjglMjZrZXl3b3JkcyUzZGNsYWlyJTJib2JzY3\n",
       "VyZSUyYmV4cGVkaXRpb24lMmIzMyUyNmluZGV4JTNkYXBzJTI2dGFnJTNkbWgwYi0yMCUyNnJlZiUzZHBkX3NsXzZmemF5cDI2eTJfcCUyNmFkZ3Jwa\n",
       "WQlM2QxMzQyNTA2MjEwNzA2ODI3JTI2aHZhZGlkJTNkODM5MDY5MTM3MjM5MDQlMjZodm5ldHclM2RvJTI2aHZxbXQlM2RwJTI2aHZibXQlM2RicCUy\n",
       "Nmh2ZGV2JTNkYyUyNmh2bG9jaW50JTNkJTI2aHZsb2NwaHklM2QxNTI4OTMlMjZodnRhcmdpZCUzZGt3ZC04MzkwNzc5NTA2NDYxNiUzYWxvYy0xNDQ\n",
       "lMjZoeWRhZGNyJTNkMTQxNjFfMTM0MDM3NTIlMjZtY2lkJTNkNTdkYzliYzc3NTYyMzcyYmFlNzgxZDlmNDcwNzI1YWIlMjZtc2Nsa2lkJTNkMDBhMm\n",
       "Q3ZTRjZGRhMTM3MWJjMGFiZjQwODI3NGExZDY&rlid=00a2d7e4cdda1371bc0abf408274a1d6)\n",
       "Filter Music By Genre, Artist, Album, Reviews , Ratings and More At Amazon. Get Deals and Low Prices On Clair \n",
       "Obscure Expedition 33 At Amazon\n",
       "\n",
       "[Clair Obscur: Expedition 33 Original Soundtrack Music Review \n",
       "...](https://www.rpgfan.com/music-review/clair-obscur-expedition-33-original-soundtrack/)\n",
       "May 10, 2025 · Friends, I have only begun to scratch the surface of the massive Clair Obscur : Expedition 33 \n",
       "Original Soundtrack . Given that it is presently available through multiple streaming services, I encourage people \n",
       "to check this one out.\n",
       "\n",
       "[The Best Songs In Clair Obscur: Expedition 33 - Game \n",
       "Rant](https://gamerant.com/clair-obscur-expedition-33-best-soundtrack-songs/)\n",
       "May 14, 2025 · Lumière, Alicia, and Lost Voice are standout tracks in Clair Obscur ' s soundtrack . The music \n",
       "complements the gameplay, setting the tone for emotional and intense moments. Unique tracks...\n",
       "\n",
       "[Clair Obscur: Expedition 33 Soundtrack Vinyl & CD \n",
       "Review](https://arclineusa.com/blogs/news/clair-obscur-expedition-33-soundtrack-vinyl-review)\n",
       "Jun 19, 2025 · Explore the sweeping 8-hour soundtrack of Clair Obscur : Expedition 33 . Learn why this French RPG’s\n",
       "OST is charting globally, what fans are saying.\n",
       "\n",
       "[Why the Clair Obscur: Expedition 33 OST is a Must-Listen \n",
       "...](https://leveluptalk.com/news/clair-obscur-expedition-33-soundtrack-review/)\n",
       "Jul 22, 2025 · Fans can’t stop raving about the soundtrack of Clair Obscur : Expedition 33 , with many stating it \n",
       "elevates the gaming experience. Players shared on forums that they’ve listened to the original score non-stop and \n",
       "praised it as a standout feature. However, the mini-games have sparked some criticism.\n",
       "\n",
       "[Clair Obscur Expedition 33’s soundtrack is secretly one of \n",
       "...](https://www.dexerto.com/gaming/clair-obscur-expedition-33s-soundtrack-is-secretly-one-of-its-biggest-triumphs-\n",
       "3186131/)\n",
       "Apr 26, 2025 · Clair Obscur is being praised for a lot of reasons, but its original soundtrack is something truly \n",
       "special that shouldn’t go unnoticed.\n",
       "\n",
       "[Clair Obscur: Expedition 33 Original Soundtrack - \n",
       "amazon.com](https://www.amazon.com/Clair-Obscur-Expedition-Original-Soundtrack/dp/B0FJSG1P2T)\n",
       "Jul 25, 2025 · This double LP has been thoughtfully sequenced by Testard, featuring an essential selection of \n",
       "tracks from the soundtrack such as Lumière, Une vie à peindre, and main character themes.\n",
       "\n",
       "[Lorien Testard - Clair Obscur: Expedition 33 Original \n",
       "...](https://www.sputnikmusic.com/review/89975/Lorien-Testard-Clair-Obscur-Expedition-33-Original-Sountrack/)\n",
       "Apr 24, 2025 · Even those pieces belong in the world of Clair Obscur , but there’s no denying an 8+ hour soundtrack\n",
       "isn’t the easiest thing to approach outside of the context of the game. And despite all the praise I’ve thrown at \n",
       "it, it’s not forging some new genre or toying with crazy experimental elements.\n",
       "\n",
       "[Clair Obscur: Expedition 33 Soundtrack Topped 2 \n",
       "Billboard](https://www.siliconera.com/clair-obscur-expedition-33-soundtrack-topped-2-billboard-charts/)\n",
       "Billboard updated its charts for the week, and the Clair Obscur : Expedition 33 game soundtrack hit the number one \n",
       "spots in both the Classical Albums ...\n",
       "\n",
       "[Clair Obscur: Expedition 33 soundtrack pre-orders \n",
       "live,](https://www.eurogamer.net/clair-obscur-expedition-33-soundtrack-pre-orders-live-offering-up-to-179-tracks)\n",
       "I ’ m very happy to announce these Clair Obscur : Expedition 33 physical soundtrack sets, ” composer Lorien Testard\n",
       "said in a press ...\n",
       "\n",
       "Out: None\n"
      ]
     },
     "metadata": {},
     "output_type": "display_data"
    },
    {
     "data": {
      "text/html": [
       "<pre style=\"white-space:pre;overflow-x:auto;line-height:normal;font-family:Menlo,'DejaVu Sans Mono',consolas,'Courier New',monospace\"><span style=\"color: #7f7f7f; text-decoration-color: #7f7f7f\">[Step 3: Duration 4.81 seconds| Input tokens: 9,387 | Output tokens: 231]</span>\n",
       "</pre>\n"
      ],
      "text/plain": [
       "\u001b[2m[Step 3: Duration 4.81 seconds| Input tokens: 9,387 | Output tokens: 231]\u001b[0m\n"
      ]
     },
     "metadata": {},
     "output_type": "display_data"
    },
    {
     "data": {
      "text/html": [
       "<pre style=\"white-space:pre;overflow-x:auto;line-height:normal;font-family:Menlo,'DejaVu Sans Mono',consolas,'Courier New',monospace\"><span style=\"color: #d4b702; text-decoration-color: #d4b702\">━━━━━━━━━━━━━━━━━━━━━━━━━━━━━━━━━━━━━━━━━━━━━━━━━━━━━ </span><span style=\"font-weight: bold\">Step 4</span><span style=\"color: #d4b702; text-decoration-color: #d4b702\"> ━━━━━━━━━━━━━━━━━━━━━━━━━━━━━━━━━━━━━━━━━━━━━━━━━━━━━━</span>\n",
       "</pre>\n"
      ],
      "text/plain": [
       "\u001b[38;2;212;183;2m━━━━━━━━━━━━━━━━━━━━━━━━━━━━━━━━━━━━━━━━━━━━━━━━━━━━━ \u001b[0m\u001b[1mStep 4\u001b[0m\u001b[38;2;212;183;2m ━━━━━━━━━━━━━━━━━━━━━━━━━━━━━━━━━━━━━━━━━━━━━━━━━━━━━━\u001b[0m\n"
      ]
     },
     "metadata": {},
     "output_type": "display_data"
    },
    {
     "data": {
      "text/html": [
       "<pre style=\"white-space:pre;overflow-x:auto;line-height:normal;font-family:Menlo,'DejaVu Sans Mono',consolas,'Courier New',monospace\"> ─ <span style=\"font-weight: bold\">Executing parsed code:</span> ──────────────────────────────────────────────────────────────────────────────────────── \n",
       "  <span style=\"color: #959077; text-decoration-color: #959077; background-color: #272822\"># Extracting the standout tracks from the review</span><span style=\"background-color: #272822\">                                                               </span>  \n",
       "  <span style=\"color: #f8f8f2; text-decoration-color: #f8f8f2; background-color: #272822\">standout_tracks </span><span style=\"color: #ff4689; text-decoration-color: #ff4689; background-color: #272822\">=</span><span style=\"color: #f8f8f2; text-decoration-color: #f8f8f2; background-color: #272822\"> [</span><span style=\"color: #e6db74; text-decoration-color: #e6db74; background-color: #272822\">\"Lumière\"</span><span style=\"color: #f8f8f2; text-decoration-color: #f8f8f2; background-color: #272822\">, </span><span style=\"color: #e6db74; text-decoration-color: #e6db74; background-color: #272822\">\"Alicia\"</span><span style=\"color: #f8f8f2; text-decoration-color: #f8f8f2; background-color: #272822\">, </span><span style=\"color: #e6db74; text-decoration-color: #e6db74; background-color: #272822\">\"Lost Voice\"</span><span style=\"color: #f8f8f2; text-decoration-color: #f8f8f2; background-color: #272822\">]</span><span style=\"background-color: #272822\">                                                          </span>  \n",
       "  <span style=\"color: #f8f8f2; text-decoration-color: #f8f8f2; background-color: #272822\">print(standout_tracks)</span><span style=\"background-color: #272822\">                                                                                         </span>  \n",
       " ───────────────────────────────────────────────────────────────────────────────────────────────────────────────── \n",
       "</pre>\n"
      ],
      "text/plain": [
       " ─ \u001b[1mExecuting parsed code:\u001b[0m ──────────────────────────────────────────────────────────────────────────────────────── \n",
       "  \u001b[38;2;149;144;119;48;2;39;40;34m# Extracting the standout tracks from the review\u001b[0m\u001b[48;2;39;40;34m                                                               \u001b[0m  \n",
       "  \u001b[38;2;248;248;242;48;2;39;40;34mstandout_tracks\u001b[0m\u001b[38;2;248;248;242;48;2;39;40;34m \u001b[0m\u001b[38;2;255;70;137;48;2;39;40;34m=\u001b[0m\u001b[38;2;248;248;242;48;2;39;40;34m \u001b[0m\u001b[38;2;248;248;242;48;2;39;40;34m[\u001b[0m\u001b[38;2;230;219;116;48;2;39;40;34m\"\u001b[0m\u001b[38;2;230;219;116;48;2;39;40;34mLumière\u001b[0m\u001b[38;2;230;219;116;48;2;39;40;34m\"\u001b[0m\u001b[38;2;248;248;242;48;2;39;40;34m,\u001b[0m\u001b[38;2;248;248;242;48;2;39;40;34m \u001b[0m\u001b[38;2;230;219;116;48;2;39;40;34m\"\u001b[0m\u001b[38;2;230;219;116;48;2;39;40;34mAlicia\u001b[0m\u001b[38;2;230;219;116;48;2;39;40;34m\"\u001b[0m\u001b[38;2;248;248;242;48;2;39;40;34m,\u001b[0m\u001b[38;2;248;248;242;48;2;39;40;34m \u001b[0m\u001b[38;2;230;219;116;48;2;39;40;34m\"\u001b[0m\u001b[38;2;230;219;116;48;2;39;40;34mLost Voice\u001b[0m\u001b[38;2;230;219;116;48;2;39;40;34m\"\u001b[0m\u001b[38;2;248;248;242;48;2;39;40;34m]\u001b[0m\u001b[48;2;39;40;34m                                                          \u001b[0m  \n",
       "  \u001b[38;2;248;248;242;48;2;39;40;34mprint\u001b[0m\u001b[38;2;248;248;242;48;2;39;40;34m(\u001b[0m\u001b[38;2;248;248;242;48;2;39;40;34mstandout_tracks\u001b[0m\u001b[38;2;248;248;242;48;2;39;40;34m)\u001b[0m\u001b[48;2;39;40;34m                                                                                         \u001b[0m  \n",
       " ───────────────────────────────────────────────────────────────────────────────────────────────────────────────── \n"
      ]
     },
     "metadata": {},
     "output_type": "display_data"
    },
    {
     "data": {
      "text/html": [
       "<pre style=\"white-space:pre;overflow-x:auto;line-height:normal;font-family:Menlo,'DejaVu Sans Mono',consolas,'Courier New',monospace\"><span style=\"font-weight: bold\">Execution logs:</span>\n",
       "['Lumière', 'Alicia', 'Lost Voice']\n",
       "\n",
       "Out: None\n",
       "</pre>\n"
      ],
      "text/plain": [
       "\u001b[1mExecution logs:\u001b[0m\n",
       "['Lumière', 'Alicia', 'Lost Voice']\n",
       "\n",
       "Out: None\n"
      ]
     },
     "metadata": {},
     "output_type": "display_data"
    },
    {
     "data": {
      "text/html": [
       "<pre style=\"white-space:pre;overflow-x:auto;line-height:normal;font-family:Menlo,'DejaVu Sans Mono',consolas,'Courier New',monospace\"><span style=\"color: #7f7f7f; text-decoration-color: #7f7f7f\">[Step 4: Duration 2.00 seconds| Input tokens: 15,356 | Output tokens: 339]</span>\n",
       "</pre>\n"
      ],
      "text/plain": [
       "\u001b[2m[Step 4: Duration 2.00 seconds| Input tokens: 15,356 | Output tokens: 339]\u001b[0m\n"
      ]
     },
     "metadata": {},
     "output_type": "display_data"
    },
    {
     "data": {
      "text/html": [
       "<pre style=\"white-space:pre;overflow-x:auto;line-height:normal;font-family:Menlo,'DejaVu Sans Mono',consolas,'Courier New',monospace\"><span style=\"color: #d4b702; text-decoration-color: #d4b702\">━━━━━━━━━━━━━━━━━━━━━━━━━━━━━━━━━━━━━━━━━━━━━━━━━━━━━ </span><span style=\"font-weight: bold\">Step 5</span><span style=\"color: #d4b702; text-decoration-color: #d4b702\"> ━━━━━━━━━━━━━━━━━━━━━━━━━━━━━━━━━━━━━━━━━━━━━━━━━━━━━━</span>\n",
       "</pre>\n"
      ],
      "text/plain": [
       "\u001b[38;2;212;183;2m━━━━━━━━━━━━━━━━━━━━━━━━━━━━━━━━━━━━━━━━━━━━━━━━━━━━━ \u001b[0m\u001b[1mStep 5\u001b[0m\u001b[38;2;212;183;2m ━━━━━━━━━━━━━━━━━━━━━━━━━━━━━━━━━━━━━━━━━━━━━━━━━━━━━━\u001b[0m\n"
      ]
     },
     "metadata": {},
     "output_type": "display_data"
    },
    {
     "data": {
      "text/html": [
       "<pre style=\"white-space:pre;overflow-x:auto;line-height:normal;font-family:Menlo,'DejaVu Sans Mono',consolas,'Courier New',monospace\"> ─ <span style=\"font-weight: bold\">Executing parsed code:</span> ──────────────────────────────────────────────────────────────────────────────────────── \n",
       "  <span style=\"color: #66d9ef; text-decoration-color: #66d9ef; background-color: #272822\">for</span><span style=\"color: #f8f8f2; text-decoration-color: #f8f8f2; background-color: #272822\"> track </span><span style=\"color: #ff4689; text-decoration-color: #ff4689; background-color: #272822\">in</span><span style=\"color: #f8f8f2; text-decoration-color: #f8f8f2; background-color: #272822\"> standout_tracks:</span><span style=\"background-color: #272822\">                                                                                  </span>  \n",
       "  <span style=\"color: #f8f8f2; text-decoration-color: #f8f8f2; background-color: #272822\">    search_results </span><span style=\"color: #ff4689; text-decoration-color: #ff4689; background-color: #272822\">=</span><span style=\"color: #f8f8f2; text-decoration-color: #f8f8f2; background-color: #272822\"> web_search(query</span><span style=\"color: #ff4689; text-decoration-color: #ff4689; background-color: #272822\">=</span><span style=\"color: #e6db74; text-decoration-color: #e6db74; background-color: #272822\">f\"Clair Obscur Expedition 33 {</span><span style=\"color: #f8f8f2; text-decoration-color: #f8f8f2; background-color: #272822\">track</span><span style=\"color: #e6db74; text-decoration-color: #e6db74; background-color: #272822\">} review\"</span><span style=\"color: #f8f8f2; text-decoration-color: #f8f8f2; background-color: #272822\">)</span><span style=\"background-color: #272822\">                            </span>  \n",
       "  <span style=\"color: #f8f8f2; text-decoration-color: #f8f8f2; background-color: #272822\">    print(</span><span style=\"color: #e6db74; text-decoration-color: #e6db74; background-color: #272822\">f\"Reviews for {</span><span style=\"color: #f8f8f2; text-decoration-color: #f8f8f2; background-color: #272822\">track</span><span style=\"color: #e6db74; text-decoration-color: #e6db74; background-color: #272822\">}:\"</span><span style=\"color: #f8f8f2; text-decoration-color: #f8f8f2; background-color: #272822\">)</span><span style=\"background-color: #272822\">                                                                             </span>  \n",
       "  <span style=\"color: #f8f8f2; text-decoration-color: #f8f8f2; background-color: #272822\">    print(search_results)</span><span style=\"background-color: #272822\">                                                                                      </span>  \n",
       "  <span style=\"color: #f8f8f2; text-decoration-color: #f8f8f2; background-color: #272822\">    print(</span><span style=\"color: #e6db74; text-decoration-color: #e6db74; background-color: #272822\">\"</span><span style=\"color: #ae81ff; text-decoration-color: #ae81ff; background-color: #272822\">\\n</span><span style=\"color: #e6db74; text-decoration-color: #e6db74; background-color: #272822\">\"</span><span style=\"color: #f8f8f2; text-decoration-color: #f8f8f2; background-color: #272822\"> </span><span style=\"color: #ff4689; text-decoration-color: #ff4689; background-color: #272822\">+</span><span style=\"color: #f8f8f2; text-decoration-color: #f8f8f2; background-color: #272822\"> </span><span style=\"color: #e6db74; text-decoration-color: #e6db74; background-color: #272822\">\"=\"</span><span style=\"color: #ff4689; text-decoration-color: #ff4689; background-color: #272822\">*</span><span style=\"color: #ae81ff; text-decoration-color: #ae81ff; background-color: #272822\">80</span><span style=\"color: #f8f8f2; text-decoration-color: #f8f8f2; background-color: #272822\"> </span><span style=\"color: #ff4689; text-decoration-color: #ff4689; background-color: #272822\">+</span><span style=\"color: #f8f8f2; text-decoration-color: #f8f8f2; background-color: #272822\"> </span><span style=\"color: #e6db74; text-decoration-color: #e6db74; background-color: #272822\">\"</span><span style=\"color: #ae81ff; text-decoration-color: #ae81ff; background-color: #272822\">\\n</span><span style=\"color: #e6db74; text-decoration-color: #e6db74; background-color: #272822\">\"</span><span style=\"color: #f8f8f2; text-decoration-color: #f8f8f2; background-color: #272822\">)  </span><span style=\"color: #959077; text-decoration-color: #959077; background-color: #272822\"># Print separator between track reviews</span><span style=\"background-color: #272822\">                                       </span>  \n",
       " ───────────────────────────────────────────────────────────────────────────────────────────────────────────────── \n",
       "</pre>\n"
      ],
      "text/plain": [
       " ─ \u001b[1mExecuting parsed code:\u001b[0m ──────────────────────────────────────────────────────────────────────────────────────── \n",
       "  \u001b[38;2;102;217;239;48;2;39;40;34mfor\u001b[0m\u001b[38;2;248;248;242;48;2;39;40;34m \u001b[0m\u001b[38;2;248;248;242;48;2;39;40;34mtrack\u001b[0m\u001b[38;2;248;248;242;48;2;39;40;34m \u001b[0m\u001b[38;2;255;70;137;48;2;39;40;34min\u001b[0m\u001b[38;2;248;248;242;48;2;39;40;34m \u001b[0m\u001b[38;2;248;248;242;48;2;39;40;34mstandout_tracks\u001b[0m\u001b[38;2;248;248;242;48;2;39;40;34m:\u001b[0m\u001b[48;2;39;40;34m                                                                                  \u001b[0m  \n",
       "  \u001b[38;2;248;248;242;48;2;39;40;34m    \u001b[0m\u001b[38;2;248;248;242;48;2;39;40;34msearch_results\u001b[0m\u001b[38;2;248;248;242;48;2;39;40;34m \u001b[0m\u001b[38;2;255;70;137;48;2;39;40;34m=\u001b[0m\u001b[38;2;248;248;242;48;2;39;40;34m \u001b[0m\u001b[38;2;248;248;242;48;2;39;40;34mweb_search\u001b[0m\u001b[38;2;248;248;242;48;2;39;40;34m(\u001b[0m\u001b[38;2;248;248;242;48;2;39;40;34mquery\u001b[0m\u001b[38;2;255;70;137;48;2;39;40;34m=\u001b[0m\u001b[38;2;230;219;116;48;2;39;40;34mf\u001b[0m\u001b[38;2;230;219;116;48;2;39;40;34m\"\u001b[0m\u001b[38;2;230;219;116;48;2;39;40;34mClair Obscur Expedition 33 \u001b[0m\u001b[38;2;230;219;116;48;2;39;40;34m{\u001b[0m\u001b[38;2;248;248;242;48;2;39;40;34mtrack\u001b[0m\u001b[38;2;230;219;116;48;2;39;40;34m}\u001b[0m\u001b[38;2;230;219;116;48;2;39;40;34m review\u001b[0m\u001b[38;2;230;219;116;48;2;39;40;34m\"\u001b[0m\u001b[38;2;248;248;242;48;2;39;40;34m)\u001b[0m\u001b[48;2;39;40;34m                            \u001b[0m  \n",
       "  \u001b[38;2;248;248;242;48;2;39;40;34m    \u001b[0m\u001b[38;2;248;248;242;48;2;39;40;34mprint\u001b[0m\u001b[38;2;248;248;242;48;2;39;40;34m(\u001b[0m\u001b[38;2;230;219;116;48;2;39;40;34mf\u001b[0m\u001b[38;2;230;219;116;48;2;39;40;34m\"\u001b[0m\u001b[38;2;230;219;116;48;2;39;40;34mReviews for \u001b[0m\u001b[38;2;230;219;116;48;2;39;40;34m{\u001b[0m\u001b[38;2;248;248;242;48;2;39;40;34mtrack\u001b[0m\u001b[38;2;230;219;116;48;2;39;40;34m}\u001b[0m\u001b[38;2;230;219;116;48;2;39;40;34m:\u001b[0m\u001b[38;2;230;219;116;48;2;39;40;34m\"\u001b[0m\u001b[38;2;248;248;242;48;2;39;40;34m)\u001b[0m\u001b[48;2;39;40;34m                                                                             \u001b[0m  \n",
       "  \u001b[38;2;248;248;242;48;2;39;40;34m    \u001b[0m\u001b[38;2;248;248;242;48;2;39;40;34mprint\u001b[0m\u001b[38;2;248;248;242;48;2;39;40;34m(\u001b[0m\u001b[38;2;248;248;242;48;2;39;40;34msearch_results\u001b[0m\u001b[38;2;248;248;242;48;2;39;40;34m)\u001b[0m\u001b[48;2;39;40;34m                                                                                      \u001b[0m  \n",
       "  \u001b[38;2;248;248;242;48;2;39;40;34m    \u001b[0m\u001b[38;2;248;248;242;48;2;39;40;34mprint\u001b[0m\u001b[38;2;248;248;242;48;2;39;40;34m(\u001b[0m\u001b[38;2;230;219;116;48;2;39;40;34m\"\u001b[0m\u001b[38;2;174;129;255;48;2;39;40;34m\\n\u001b[0m\u001b[38;2;230;219;116;48;2;39;40;34m\"\u001b[0m\u001b[38;2;248;248;242;48;2;39;40;34m \u001b[0m\u001b[38;2;255;70;137;48;2;39;40;34m+\u001b[0m\u001b[38;2;248;248;242;48;2;39;40;34m \u001b[0m\u001b[38;2;230;219;116;48;2;39;40;34m\"\u001b[0m\u001b[38;2;230;219;116;48;2;39;40;34m=\u001b[0m\u001b[38;2;230;219;116;48;2;39;40;34m\"\u001b[0m\u001b[38;2;255;70;137;48;2;39;40;34m*\u001b[0m\u001b[38;2;174;129;255;48;2;39;40;34m80\u001b[0m\u001b[38;2;248;248;242;48;2;39;40;34m \u001b[0m\u001b[38;2;255;70;137;48;2;39;40;34m+\u001b[0m\u001b[38;2;248;248;242;48;2;39;40;34m \u001b[0m\u001b[38;2;230;219;116;48;2;39;40;34m\"\u001b[0m\u001b[38;2;174;129;255;48;2;39;40;34m\\n\u001b[0m\u001b[38;2;230;219;116;48;2;39;40;34m\"\u001b[0m\u001b[38;2;248;248;242;48;2;39;40;34m)\u001b[0m\u001b[38;2;248;248;242;48;2;39;40;34m  \u001b[0m\u001b[38;2;149;144;119;48;2;39;40;34m# Print separator between track reviews\u001b[0m\u001b[48;2;39;40;34m                                       \u001b[0m  \n",
       " ───────────────────────────────────────────────────────────────────────────────────────────────────────────────── \n"
      ]
     },
     "metadata": {},
     "output_type": "display_data"
    },
    {
     "data": {
      "text/html": [
       "<pre style=\"white-space:pre;overflow-x:auto;line-height:normal;font-family:Menlo,'DejaVu Sans Mono',consolas,'Courier New',monospace\"><span style=\"font-weight: bold\">Execution logs:</span>\n",
       "Reviews for Lumière:\n",
       "## Search Results\n",
       "\n",
       "[Clair Obscur : Expedition 33 on Steam](https://store.steampowered.com/app/1903340/Clair_Obscur_Expedition_33/)\n",
       "Clair Obscur : Expedition 33 Base Game. The “Flowers” Collection - Six outfits and hairstyles inspired by the \n",
       "Flowers of Lumière , along with six additional “Gommage” outfit variations. One for each playable character. “ \n",
       "Clair ” - A custom outfit for Maelle.\n",
       "\n",
       "[Clair Obscur: Expedition 33 Review - Light And \n",
       "Shadow](https://www.gamespot.com/reviews/clair-obscur-expedition-33-review-light-and-shadow/1900-6418358/)\n",
       "23-Apr-2025 — Clair Obscur : Expedition 33 is a phenomenal RPG, telling a heartbreaking tale while incorporating \n",
       "thrilling action into its tactical turn-based combat.\n",
       "\n",
       "[Clair Obscur: Expedition 33 Reviews](https://www.metacritic.com/game/clair-obscur-expedition-33/)\n",
       "Clair Obscur: Expedition 33 is a must-play RPG with brilliant combat, strong characters, and a world that's hard to\n",
       "forget.\n",
       "\n",
       "[Video Game Music Is Like THIS?! Vocal ANALYSIS of Clair Obscur ...](https://www.youtube.com/watch?v=SDuDLuKGNg0)\n",
       "This is one of the first times I've ever heard music from a video game before, and it's absolutely beautiful. Clair\n",
       "Obscur : Expedition 33 seems like an abso...\n",
       "\n",
       "[Сообщество Steam :: Руководство :: Clair Obscur : Expedition 33 \n",
       "...](https://steamcommunity.com/sharedfiles/filedetails/?id=3469875590)\n",
       "Clair Obscur : Expedition 33 Guide - 100% Achievements, Missables, Maps, Easter Eggs &amp; More!Record - Un 33 Decembre\n",
       "a Lumière (Requires Esquie first) - Found in the Twilight Quarry, south of Esquie's Nest on the World Map.\n",
       "\n",
       "[Clair Obscur : Expedition 33 | Lumière [Official Music Video]...](https://vk.com/video479285_456239179)\n",
       "Clair Obscur : Expedition 33 (Original Soundtrack) - Lumière Composed by Lorien Testard ft. Alice Duport-Percier \n",
       "Orchestral performance by Orchestre Curieux.\n",
       "\n",
       "[Clair Obscur : Expedition 33 | Lumière [Official Music \n",
       "Video]](https://rutube.ru/video/401cecf26e6e21e0b6842bc6a5daf604/)\n",
       "Clair Obscur : Expedition 33 (Original Soundtrack) - Lumière Composed by Lorien Testard ft. Alice Duport-Percier \n",
       "Orchestral performance by Orchestre Curieux. Listen to the full soundtrack on all platforms: ... Clair Obscur : \n",
       "Expedition 33 available now...\n",
       "\n",
       "[GOING BACK TO OLD LUMIÈRE - Clair Obscur : Expedition 33 \n",
       "[21]](https://www.locant.tv/watch/87b9e337-6cc4-4380-ac57-f57fd1e0df56)\n",
       "clair obscur expedition 33 gameplay. expedition 33 gameplay.\n",
       "\n",
       "[Maelle Best Builds and Attributes | Clair Obscur : Expedition 33 \n",
       "...](https://game8.co/games/Clair-Obscur-Expedition-33/archives/513880)\n",
       "Clair Obscur : Expedition 33 Walkthrough Team. Last updated on: May 26, 2025 01:44 AM.A shy loner, eager to fly. \n",
       "Maelle sees the expedition as her chance to escape Lumière and explore the world beyond.\n",
       "\n",
       "[Lumiere Expedition 33 Combat | TikTok](https://www.tiktok.com/discover/lumiere-expedition-33-combat)\n",
       "Clair Obscur Expedition 33 tips, Lumiere optional content rewards, RPG guide for Clair Obscur , best strategies for\n",
       "Expedition 33 , things you missed in Lumiere .\n",
       "\n",
       "================================================================================\n",
       "\n",
       "Reviews for Alicia:\n",
       "## Search Results\n",
       "\n",
       "[Claire Obscure Expedition 33 - View Ratings and \n",
       "Reviews](https://www.bing.com/aclick?ld=e8PJlT8ZxhliN_EdwvTwCgTzVUCUzTGHKJPj0g07JLTU2HLZqa4iqgKWwuCyipWbLv8OELSGIKz\n",
       "t24pyEZMKluFRrC7F6b41Ojrzn62tOIrtSk3ulUwULTMosdY_cLxi471L8nqqP6W8D8Z1kaDZAzPJYrz_0TtQ3GvjC4BMHx4IYua9b99NfVX8k3bE2C\n",
       "ncmQn8BxfA&amp;u=aHR0cHMlM2ElMmYlMmZ3d3cuYW1hem9uLmNvbSUyZnMlMmYlM2ZpZSUzZFVURjglMjZrZXl3b3JkcyUzZGNsYWlyZSUyYm9ic2N1cm\n",
       "UlMmJleHBlZGl0aW9uJTJiMzMlMjZpbmRleCUzZGFwcyUyNnRhZyUzZG1oMGItMjAlMjZyZWYlM2RwZF9zbF8zcW5rcnc2dGhfcCUyNmFkZ3JwaWQlM\n",
       "2QxMzQwMzA3MjA2MTQ2MzkzJTI2aHZhZGlkJTNkODM3Njk0Nzc5NDUzMDklMjZodm5ldHclM2RvJTI2aHZxbXQlM2RwJTI2aHZibXQlM2RicCUyNmh2\n",
       "ZGV2JTNkYyUyNmh2bG9jaW50JTNkJTI2aHZsb2NwaHklM2QxNTI4OTMlMjZodnRhcmdpZCUzZGt3ZC04Mzc3MDM3NTU3NTc1NCUzYWxvYy0xNDQlMjZ\n",
       "oeWRhZGNyJTNkMjY2MTlfMTE2ODg3MDclMjZtY2lkJTNkYzQyMWE4NjI2YzBiM2I1ZDk2NmIwYTQ4NTNlMDk0YTglMjZtc2Nsa2lkJTNkNDNkMjc1Zj\n",
       "llMmVjMWMzNmVkZTcxZDVkYWQ1YmE0NjY&amp;rlid=43d275f9e2ec1c36ede71d5dad5ba466)\n",
       "amazon.com has been visited by 1M+ users in the past month Get deals and low prices on Claire Obscure Expedition 33\n",
       "at Amazon. We offer an extensive selection of video games at Amazon. Order today!\n",
       "\n",
       "[Alicia (The Reacher) - Clair Obscur: Expedition 33 Guide - \n",
       "IGN](https://www.ign.com/wikis/clair-obscur-expedition-33/Alicia_(The_Reacher))\n",
       "Jul 16, 2025 · Alicia is an optional boss in Clair Obscur : Expedition 33 , and she’s found at the very top of The \n",
       "Reacher area. This guide will tell you what you need to know to beat the Alicia boss...\n",
       "\n",
       "[How to Beat Alicia | Clair Obscur: Expedition \n",
       "33｜Game8](https://game8.co/games/Clair-Obscur-Expedition-33/archives/520869)\n",
       "May 21, 2025 · A guide on how to beat Alicia , an Optional Secret Boss in Clair Obscur : Expedition 33 . See Alicia\n",
       "'s weaknesses, attack patterns, and how to dodge and counter its attacks.\n",
       "\n",
       "[Boss: Alicia - Clair Obscur: Expedition 33 \n",
       "Walkthrough](https://www.neoseeker.com/clair-obscur-expedition-33/Alicia)\n",
       "Jul 16, 2025 · While Alicia retains the same attacks that Maelle used at the end of the game, if you fought her by \n",
       "choosing to fight as Verso, she can dish out some serious damage, especially after casting ...\n",
       "\n",
       "[Clair Obscur: Expedition 33 Reviews - \n",
       "Metacritic](https://www.metacritic.com/game/clair-obscur-expedition-33/?platform=xbox-series-x)\n",
       "Apr 24, 2025 · Clair Obsur : Expedition 33 is a marvel of a video game. A game-changing, genre-bending masterpiece.\n",
       "It serves as a testament to the passion of what can be accomplished by a talented team, rivaling the efforts of \n",
       "giant monolith publishers that have three times the budget and resources.\n",
       "\n",
       "[Alicia | Expedition 33 Wiki](https://expedition33.wiki.fextralife.com/Alicia)\n",
       "Aug 2, 2025 · Alicia is a Boss in Clair Obscur Expedition 33 . Alicia Boss Guide: Where to Find, Best Strategies, \n",
       "How to Defeat, Rewards, and more for Expedition 33 .\n",
       "\n",
       "[REVIEW: Clair Obscur: Expedition 33 - Grimdark \n",
       "Magazine](https://www.grimdarkmagazine.com/review-clair-obscur-expedition-33/)\n",
       "Jul 27, 2025 · At their first attempt, developers Sandfall have made an instant RPG classic in Clair Obscur : \n",
       "Expedition 33 . With its influences clear to see, the game blends classic RPG elements with modern a style and \n",
       "themes wrapped up in a mesmerising story.\n",
       "\n",
       "[Clair Obscur: Expedition 33 Spoiler-Free Review – An \n",
       "...](https://frankgamer.com/2025/05/18/clair-obscur-expedition-33-spoiler-free-review-an-exceptional-debut/)\n",
       "May 18, 2025 · Clair Obscur : Expedition 33 came out of nowhere, at least for me, and it’s probably the best RPG \n",
       "I’ve played in recent times. I’m writing this review just after rolling the credits, and it’s easily my pick for \n",
       "game of the year.\n",
       "\n",
       "[A review of Clair Obscur Expedition 33 (it was pretty cool). \n",
       "...](https://www.reddit.com/r/JRPG/comments/1mmluk5/a_review_of_clair_obscur_expedition_33_it_was/)\n",
       "The only part that is actually important is that Verso died trying to save Alicia , but that works equally as well \n",
       "if the fire is an accident.\n",
       "\n",
       "['Clair Obscur: Expedition 33' Makes Turn-Based Combat \n",
       "...](https://www.vice.com/en/article/clair-obscur-expedition-33-is-the-turn-based-rpg-youve-been-dreaming-about-for\n",
       "-years-review/)\n",
       "23-Apr-2025 — Clair Obscur: Expedition 33 is a story of loss, grief, and how a group of complex individuals deal \n",
       "with trauma.\n",
       "\n",
       "================================================================================\n",
       "\n",
       "Reviews for Lost Voice:\n",
       "## Search Results\n",
       "\n",
       "[Clair Obscur: Expedition 33 Lost Me in Under Thirty \n",
       "Minutes](https://xander51.medium.com/clair-obscur-expedition-33-lost-me-in-under-thirty-minutes-dd0c9d625f1d)\n",
       "Clair Obscure is a heavy, depressing, super sad game right from moment one. It's about a world where an evil \n",
       "goddess being thing known as “The ...\n",
       "\n",
       "[Clair Obscur: Expedition 33 (Video Game 2025) - IMDb](https://www.imdb.com/title/tt32591698/reviews/)\n",
       "The story is complex yet clarity is on point so you never lost yourself in bombs of twists. The dialogs are very \n",
       "natural especially PARRIED with PERFECT voice ...\n",
       "\n",
       "[Clair Obscur: Expedition 33 review](https://www.pcgamer.com/games/rpg/clair-obscur-expedition-33-review/)\n",
       "23-Apr-2025 — Clair Obscur: Expedition 33 is a stylish riff on the JRPG, but its real-time-infused combat is rarely\n",
       "as fun as it looks.\n",
       "\n",
       "[Clair Obscur: Expedition 33 Review - A brush with \n",
       "death](https://www.katclay.com/clair-obscur-expedition-33-review-a-brush-with-death/)\n",
       "11-Jun-2025 — I admire the boldness of Clair Obscur: Expedition 33 . It makes big narrative choices that don't \n",
       "always work. But in doing so, it's giving ...\n",
       "\n",
       "[Clair Obscur: Expedition 33 Review - Light And \n",
       "Shadow](https://www.gamespot.com/reviews/clair-obscur-expedition-33-review-light-and-shadow/1900-6418358/)\n",
       "23-Apr-2025 — Clair Obscur : Expedition 33 is a phenomenal RPG, telling a heartbreaking tale while incorporating \n",
       "thrilling action into its tactical turn-based combat.\n",
       "\n",
       "[No, Clair Obscur: Expedition 33 wasn't \"made\" by 30 \n",
       "people](https://www.rockpapershotgun.com/no-clair-obscur-expedition-33-wasnt-made-by-30-people)\n",
       "28-Apr-2025 — If Clair Obscur : Expedition 33 was made by 500 people, it'd still be an incredible work. It has the \n",
       "good game sauce, and clearly came from a place of love, ...\n",
       "\n",
       "[Clair Obscur : Expedition 33 (Original Soundtrack) 68 - Lost Voice](https://www.youtube.com/watch?v=t-0mhtjEATE)\n",
       "Clair Obscur : Expedition 33 - Lost VoiceComposed by Lorien Testard ft.\n",
       "\n",
       "[Lost Voice Clair Obscur | TikTok](https://www.tiktok.com/discover/lost-voice-clair-obscur)\n",
       "Expédition 33 Lost Voice # clairobscur # expedition 33 #clairobscurexpedition 33 Expédition 33 : Voix Perdue et \n",
       "Mystères. Découvrez les détails fascinants de l' Expédition 33 et la voix perdue. more from Lost Voice ( Clair \n",
       "Obscur : Expedition 33 ) arra...\n",
       "\n",
       "[Expedition 33 Character Builds | Clair Obscur \n",
       "｜Game8](https://game8.co/games/Clair-Obscur-Expedition-33/archives/517352)\n",
       "Clair Obscur Expedition 33 - Level Up Your Attributes Builds in Clair Obscur : Expedition 33 is influenced by the \n",
       "character's attributes. These attributes contribute greatly to how a character performs or plays and are the \n",
       "deciding factor in whether the build works or not.\n",
       "\n",
       "[Music Records | Expedition 33 Wiki](https://expedition33.wiki.fextralife.com/Music+Records)\n",
       "Reviews . Guides. Clair Obscur : Expedition 33 features a total of 33 Music Records, and finding all rewards the \n",
       "player with the Trophy/Achievement \"Connoisseur\". This page covers a list of all the Musical Records and where to \n",
       "find them in Clair Obscur Expedition 33 .\n",
       "\n",
       "================================================================================\n",
       "\n",
       "\n",
       "Out: ## Search Results\n",
       "\n",
       "[Clair Obscur: Expedition 33 Lost Me in Under Thirty \n",
       "Minutes](https://xander51.medium.com/clair-obscur-expedition-33-lost-me-in-under-thirty-minutes-dd0c9d625f1d)\n",
       "Clair Obscure is a heavy, depressing, super sad game right from moment one. It's about a world where an evil \n",
       "goddess being thing known as “The ...\n",
       "\n",
       "[Clair Obscur: Expedition 33 (Video Game 2025) - IMDb](https://www.imdb.com/title/tt32591698/reviews/)\n",
       "The story is complex yet clarity is on point so you never lost yourself in bombs of twists. The dialogs are very \n",
       "natural especially PARRIED with PERFECT voice ...\n",
       "\n",
       "[Clair Obscur: Expedition 33 review](https://www.pcgamer.com/games/rpg/clair-obscur-expedition-33-review/)\n",
       "23-Apr-2025 — Clair Obscur: Expedition 33 is a stylish riff on the JRPG, but its real-time-infused combat is rarely\n",
       "as fun as it looks.\n",
       "\n",
       "[Clair Obscur: Expedition 33 Review - A brush with \n",
       "death](https://www.katclay.com/clair-obscur-expedition-33-review-a-brush-with-death/)\n",
       "11-Jun-2025 — I admire the boldness of Clair Obscur: Expedition 33 . It makes big narrative choices that don't \n",
       "always work. But in doing so, it's giving ...\n",
       "\n",
       "[Clair Obscur: Expedition 33 Review - Light And \n",
       "Shadow](https://www.gamespot.com/reviews/clair-obscur-expedition-33-review-light-and-shadow/1900-6418358/)\n",
       "23-Apr-2025 — Clair Obscur : Expedition 33 is a phenomenal RPG, telling a heartbreaking tale while incorporating \n",
       "thrilling action into its tactical turn-based combat.\n",
       "\n",
       "[No, Clair Obscur: Expedition 33 wasn't \"made\" by 30 \n",
       "people](https://www.rockpapershotgun.com/no-clair-obscur-expedition-33-wasnt-made-by-30-people)\n",
       "28-Apr-2025 — If Clair Obscur : Expedition 33 was made by 500 people, it'd still be an incredible work. It has the \n",
       "good game sauce, and clearly came from a place of love, ...\n",
       "\n",
       "[Clair Obscur : Expedition 33 (Original Soundtrack) 68 - Lost Voice](https://www.youtube.com/watch?v=t-0mhtjEATE)\n",
       "Clair Obscur : Expedition 33 - Lost VoiceComposed by Lorien Testard ft.\n",
       "\n",
       "[Lost Voice Clair Obscur | TikTok](https://www.tiktok.com/discover/lost-voice-clair-obscur)\n",
       "Expédition 33 Lost Voice # clairobscur # expedition 33 #clairobscurexpedition 33 Expédition 33 : Voix Perdue et \n",
       "Mystères. Découvrez les détails fascinants de l' Expédition 33 et la voix perdue. more from Lost Voice ( Clair \n",
       "Obscur : Expedition 33 ) arra...\n",
       "\n",
       "[Expedition 33 Character Builds | Clair Obscur \n",
       "｜Game8](https://game8.co/games/Clair-Obscur-Expedition-33/archives/517352)\n",
       "Clair Obscur Expedition 33 - Level Up Your Attributes Builds in Clair Obscur : Expedition 33 is influenced by the \n",
       "character's attributes. These attributes contribute greatly to how a character performs or plays and are the \n",
       "deciding factor in whether the build works or not.\n",
       "\n",
       "[Music Records | Expedition 33 Wiki](https://expedition33.wiki.fextralife.com/Music+Records)\n",
       "Reviews . Guides. Clair Obscur : Expedition 33 features a total of 33 Music Records, and finding all rewards the \n",
       "player with the Trophy/Achievement \"Connoisseur\". This page covers a list of all the Musical Records and where to \n",
       "find them in Clair Obscur Expedition 33 .\n",
       "</pre>\n"
      ],
      "text/plain": [
       "\u001b[1mExecution logs:\u001b[0m\n",
       "Reviews for Lumière:\n",
       "## Search Results\n",
       "\n",
       "[Clair Obscur : Expedition 33 on Steam](https://store.steampowered.com/app/1903340/Clair_Obscur_Expedition_33/)\n",
       "Clair Obscur : Expedition 33 Base Game. The “Flowers” Collection - Six outfits and hairstyles inspired by the \n",
       "Flowers of Lumière , along with six additional “Gommage” outfit variations. One for each playable character. “ \n",
       "Clair ” - A custom outfit for Maelle.\n",
       "\n",
       "[Clair Obscur: Expedition 33 Review - Light And \n",
       "Shadow](https://www.gamespot.com/reviews/clair-obscur-expedition-33-review-light-and-shadow/1900-6418358/)\n",
       "23-Apr-2025 — Clair Obscur : Expedition 33 is a phenomenal RPG, telling a heartbreaking tale while incorporating \n",
       "thrilling action into its tactical turn-based combat.\n",
       "\n",
       "[Clair Obscur: Expedition 33 Reviews](https://www.metacritic.com/game/clair-obscur-expedition-33/)\n",
       "Clair Obscur: Expedition 33 is a must-play RPG with brilliant combat, strong characters, and a world that's hard to\n",
       "forget.\n",
       "\n",
       "[Video Game Music Is Like THIS?! Vocal ANALYSIS of Clair Obscur ...](https://www.youtube.com/watch?v=SDuDLuKGNg0)\n",
       "This is one of the first times I've ever heard music from a video game before, and it's absolutely beautiful. Clair\n",
       "Obscur : Expedition 33 seems like an abso...\n",
       "\n",
       "[Сообщество Steam :: Руководство :: Clair Obscur : Expedition 33 \n",
       "...](https://steamcommunity.com/sharedfiles/filedetails/?id=3469875590)\n",
       "Clair Obscur : Expedition 33 Guide - 100% Achievements, Missables, Maps, Easter Eggs & More!Record - Un 33 Decembre\n",
       "a Lumière (Requires Esquie first) - Found in the Twilight Quarry, south of Esquie's Nest on the World Map.\n",
       "\n",
       "[Clair Obscur : Expedition 33 | Lumière [Official Music Video]...](https://vk.com/video479285_456239179)\n",
       "Clair Obscur : Expedition 33 (Original Soundtrack) - Lumière Composed by Lorien Testard ft. Alice Duport-Percier \n",
       "Orchestral performance by Orchestre Curieux.\n",
       "\n",
       "[Clair Obscur : Expedition 33 | Lumière [Official Music \n",
       "Video]](https://rutube.ru/video/401cecf26e6e21e0b6842bc6a5daf604/)\n",
       "Clair Obscur : Expedition 33 (Original Soundtrack) - Lumière Composed by Lorien Testard ft. Alice Duport-Percier \n",
       "Orchestral performance by Orchestre Curieux. Listen to the full soundtrack on all platforms: ... Clair Obscur : \n",
       "Expedition 33 available now...\n",
       "\n",
       "[GOING BACK TO OLD LUMIÈRE - Clair Obscur : Expedition 33 \n",
       "[21]](https://www.locant.tv/watch/87b9e337-6cc4-4380-ac57-f57fd1e0df56)\n",
       "clair obscur expedition 33 gameplay. expedition 33 gameplay.\n",
       "\n",
       "[Maelle Best Builds and Attributes | Clair Obscur : Expedition 33 \n",
       "...](https://game8.co/games/Clair-Obscur-Expedition-33/archives/513880)\n",
       "Clair Obscur : Expedition 33 Walkthrough Team. Last updated on: May 26, 2025 01:44 AM.A shy loner, eager to fly. \n",
       "Maelle sees the expedition as her chance to escape Lumière and explore the world beyond.\n",
       "\n",
       "[Lumiere Expedition 33 Combat | TikTok](https://www.tiktok.com/discover/lumiere-expedition-33-combat)\n",
       "Clair Obscur Expedition 33 tips, Lumiere optional content rewards, RPG guide for Clair Obscur , best strategies for\n",
       "Expedition 33 , things you missed in Lumiere .\n",
       "\n",
       "================================================================================\n",
       "\n",
       "Reviews for Alicia:\n",
       "## Search Results\n",
       "\n",
       "[Claire Obscure Expedition 33 - View Ratings and \n",
       "Reviews](https://www.bing.com/aclick?ld=e8PJlT8ZxhliN_EdwvTwCgTzVUCUzTGHKJPj0g07JLTU2HLZqa4iqgKWwuCyipWbLv8OELSGIKz\n",
       "t24pyEZMKluFRrC7F6b41Ojrzn62tOIrtSk3ulUwULTMosdY_cLxi471L8nqqP6W8D8Z1kaDZAzPJYrz_0TtQ3GvjC4BMHx4IYua9b99NfVX8k3bE2C\n",
       "ncmQn8BxfA&u=aHR0cHMlM2ElMmYlMmZ3d3cuYW1hem9uLmNvbSUyZnMlMmYlM2ZpZSUzZFVURjglMjZrZXl3b3JkcyUzZGNsYWlyZSUyYm9ic2N1cm\n",
       "UlMmJleHBlZGl0aW9uJTJiMzMlMjZpbmRleCUzZGFwcyUyNnRhZyUzZG1oMGItMjAlMjZyZWYlM2RwZF9zbF8zcW5rcnc2dGhfcCUyNmFkZ3JwaWQlM\n",
       "2QxMzQwMzA3MjA2MTQ2MzkzJTI2aHZhZGlkJTNkODM3Njk0Nzc5NDUzMDklMjZodm5ldHclM2RvJTI2aHZxbXQlM2RwJTI2aHZibXQlM2RicCUyNmh2\n",
       "ZGV2JTNkYyUyNmh2bG9jaW50JTNkJTI2aHZsb2NwaHklM2QxNTI4OTMlMjZodnRhcmdpZCUzZGt3ZC04Mzc3MDM3NTU3NTc1NCUzYWxvYy0xNDQlMjZ\n",
       "oeWRhZGNyJTNkMjY2MTlfMTE2ODg3MDclMjZtY2lkJTNkYzQyMWE4NjI2YzBiM2I1ZDk2NmIwYTQ4NTNlMDk0YTglMjZtc2Nsa2lkJTNkNDNkMjc1Zj\n",
       "llMmVjMWMzNmVkZTcxZDVkYWQ1YmE0NjY&rlid=43d275f9e2ec1c36ede71d5dad5ba466)\n",
       "amazon.com has been visited by 1M+ users in the past month Get deals and low prices on Claire Obscure Expedition 33\n",
       "at Amazon. We offer an extensive selection of video games at Amazon. Order today!\n",
       "\n",
       "[Alicia (The Reacher) - Clair Obscur: Expedition 33 Guide - \n",
       "IGN](https://www.ign.com/wikis/clair-obscur-expedition-33/Alicia_(The_Reacher))\n",
       "Jul 16, 2025 · Alicia is an optional boss in Clair Obscur : Expedition 33 , and she’s found at the very top of The \n",
       "Reacher area. This guide will tell you what you need to know to beat the Alicia boss...\n",
       "\n",
       "[How to Beat Alicia | Clair Obscur: Expedition \n",
       "33｜Game8](https://game8.co/games/Clair-Obscur-Expedition-33/archives/520869)\n",
       "May 21, 2025 · A guide on how to beat Alicia , an Optional Secret Boss in Clair Obscur : Expedition 33 . See Alicia\n",
       "'s weaknesses, attack patterns, and how to dodge and counter its attacks.\n",
       "\n",
       "[Boss: Alicia - Clair Obscur: Expedition 33 \n",
       "Walkthrough](https://www.neoseeker.com/clair-obscur-expedition-33/Alicia)\n",
       "Jul 16, 2025 · While Alicia retains the same attacks that Maelle used at the end of the game, if you fought her by \n",
       "choosing to fight as Verso, she can dish out some serious damage, especially after casting ...\n",
       "\n",
       "[Clair Obscur: Expedition 33 Reviews - \n",
       "Metacritic](https://www.metacritic.com/game/clair-obscur-expedition-33/?platform=xbox-series-x)\n",
       "Apr 24, 2025 · Clair Obsur : Expedition 33 is a marvel of a video game. A game-changing, genre-bending masterpiece.\n",
       "It serves as a testament to the passion of what can be accomplished by a talented team, rivaling the efforts of \n",
       "giant monolith publishers that have three times the budget and resources.\n",
       "\n",
       "[Alicia | Expedition 33 Wiki](https://expedition33.wiki.fextralife.com/Alicia)\n",
       "Aug 2, 2025 · Alicia is a Boss in Clair Obscur Expedition 33 . Alicia Boss Guide: Where to Find, Best Strategies, \n",
       "How to Defeat, Rewards, and more for Expedition 33 .\n",
       "\n",
       "[REVIEW: Clair Obscur: Expedition 33 - Grimdark \n",
       "Magazine](https://www.grimdarkmagazine.com/review-clair-obscur-expedition-33/)\n",
       "Jul 27, 2025 · At their first attempt, developers Sandfall have made an instant RPG classic in Clair Obscur : \n",
       "Expedition 33 . With its influences clear to see, the game blends classic RPG elements with modern a style and \n",
       "themes wrapped up in a mesmerising story.\n",
       "\n",
       "[Clair Obscur: Expedition 33 Spoiler-Free Review – An \n",
       "...](https://frankgamer.com/2025/05/18/clair-obscur-expedition-33-spoiler-free-review-an-exceptional-debut/)\n",
       "May 18, 2025 · Clair Obscur : Expedition 33 came out of nowhere, at least for me, and it’s probably the best RPG \n",
       "I’ve played in recent times. I’m writing this review just after rolling the credits, and it’s easily my pick for \n",
       "game of the year.\n",
       "\n",
       "[A review of Clair Obscur Expedition 33 (it was pretty cool). \n",
       "...](https://www.reddit.com/r/JRPG/comments/1mmluk5/a_review_of_clair_obscur_expedition_33_it_was/)\n",
       "The only part that is actually important is that Verso died trying to save Alicia , but that works equally as well \n",
       "if the fire is an accident.\n",
       "\n",
       "['Clair Obscur: Expedition 33' Makes Turn-Based Combat \n",
       "...](https://www.vice.com/en/article/clair-obscur-expedition-33-is-the-turn-based-rpg-youve-been-dreaming-about-for\n",
       "-years-review/)\n",
       "23-Apr-2025 — Clair Obscur: Expedition 33 is a story of loss, grief, and how a group of complex individuals deal \n",
       "with trauma.\n",
       "\n",
       "================================================================================\n",
       "\n",
       "Reviews for Lost Voice:\n",
       "## Search Results\n",
       "\n",
       "[Clair Obscur: Expedition 33 Lost Me in Under Thirty \n",
       "Minutes](https://xander51.medium.com/clair-obscur-expedition-33-lost-me-in-under-thirty-minutes-dd0c9d625f1d)\n",
       "Clair Obscure is a heavy, depressing, super sad game right from moment one. It's about a world where an evil \n",
       "goddess being thing known as “The ...\n",
       "\n",
       "[Clair Obscur: Expedition 33 (Video Game 2025) - IMDb](https://www.imdb.com/title/tt32591698/reviews/)\n",
       "The story is complex yet clarity is on point so you never lost yourself in bombs of twists. The dialogs are very \n",
       "natural especially PARRIED with PERFECT voice ...\n",
       "\n",
       "[Clair Obscur: Expedition 33 review](https://www.pcgamer.com/games/rpg/clair-obscur-expedition-33-review/)\n",
       "23-Apr-2025 — Clair Obscur: Expedition 33 is a stylish riff on the JRPG, but its real-time-infused combat is rarely\n",
       "as fun as it looks.\n",
       "\n",
       "[Clair Obscur: Expedition 33 Review - A brush with \n",
       "death](https://www.katclay.com/clair-obscur-expedition-33-review-a-brush-with-death/)\n",
       "11-Jun-2025 — I admire the boldness of Clair Obscur: Expedition 33 . It makes big narrative choices that don't \n",
       "always work. But in doing so, it's giving ...\n",
       "\n",
       "[Clair Obscur: Expedition 33 Review - Light And \n",
       "Shadow](https://www.gamespot.com/reviews/clair-obscur-expedition-33-review-light-and-shadow/1900-6418358/)\n",
       "23-Apr-2025 — Clair Obscur : Expedition 33 is a phenomenal RPG, telling a heartbreaking tale while incorporating \n",
       "thrilling action into its tactical turn-based combat.\n",
       "\n",
       "[No, Clair Obscur: Expedition 33 wasn't \"made\" by 30 \n",
       "people](https://www.rockpapershotgun.com/no-clair-obscur-expedition-33-wasnt-made-by-30-people)\n",
       "28-Apr-2025 — If Clair Obscur : Expedition 33 was made by 500 people, it'd still be an incredible work. It has the \n",
       "good game sauce, and clearly came from a place of love, ...\n",
       "\n",
       "[Clair Obscur : Expedition 33 (Original Soundtrack) 68 - Lost Voice](https://www.youtube.com/watch?v=t-0mhtjEATE)\n",
       "Clair Obscur : Expedition 33 - Lost VoiceComposed by Lorien Testard ft.\n",
       "\n",
       "[Lost Voice Clair Obscur | TikTok](https://www.tiktok.com/discover/lost-voice-clair-obscur)\n",
       "Expédition 33 Lost Voice # clairobscur # expedition 33 #clairobscurexpedition 33 Expédition 33 : Voix Perdue et \n",
       "Mystères. Découvrez les détails fascinants de l' Expédition 33 et la voix perdue. more from Lost Voice ( Clair \n",
       "Obscur : Expedition 33 ) arra...\n",
       "\n",
       "[Expedition 33 Character Builds | Clair Obscur \n",
       "｜Game8](https://game8.co/games/Clair-Obscur-Expedition-33/archives/517352)\n",
       "Clair Obscur Expedition 33 - Level Up Your Attributes Builds in Clair Obscur : Expedition 33 is influenced by the \n",
       "character's attributes. These attributes contribute greatly to how a character performs or plays and are the \n",
       "deciding factor in whether the build works or not.\n",
       "\n",
       "[Music Records | Expedition 33 Wiki](https://expedition33.wiki.fextralife.com/Music+Records)\n",
       "Reviews . Guides. Clair Obscur : Expedition 33 features a total of 33 Music Records, and finding all rewards the \n",
       "player with the Trophy/Achievement \"Connoisseur\". This page covers a list of all the Musical Records and where to \n",
       "find them in Clair Obscur Expedition 33 .\n",
       "\n",
       "================================================================================\n",
       "\n",
       "\n",
       "Out: ## Search Results\n",
       "\n",
       "[Clair Obscur: Expedition 33 Lost Me in Under Thirty \n",
       "Minutes](https://xander51.medium.com/clair-obscur-expedition-33-lost-me-in-under-thirty-minutes-dd0c9d625f1d)\n",
       "Clair Obscure is a heavy, depressing, super sad game right from moment one. It's about a world where an evil \n",
       "goddess being thing known as “The ...\n",
       "\n",
       "[Clair Obscur: Expedition 33 (Video Game 2025) - IMDb](https://www.imdb.com/title/tt32591698/reviews/)\n",
       "The story is complex yet clarity is on point so you never lost yourself in bombs of twists. The dialogs are very \n",
       "natural especially PARRIED with PERFECT voice ...\n",
       "\n",
       "[Clair Obscur: Expedition 33 review](https://www.pcgamer.com/games/rpg/clair-obscur-expedition-33-review/)\n",
       "23-Apr-2025 — Clair Obscur: Expedition 33 is a stylish riff on the JRPG, but its real-time-infused combat is rarely\n",
       "as fun as it looks.\n",
       "\n",
       "[Clair Obscur: Expedition 33 Review - A brush with \n",
       "death](https://www.katclay.com/clair-obscur-expedition-33-review-a-brush-with-death/)\n",
       "11-Jun-2025 — I admire the boldness of Clair Obscur: Expedition 33 . It makes big narrative choices that don't \n",
       "always work. But in doing so, it's giving ...\n",
       "\n",
       "[Clair Obscur: Expedition 33 Review - Light And \n",
       "Shadow](https://www.gamespot.com/reviews/clair-obscur-expedition-33-review-light-and-shadow/1900-6418358/)\n",
       "23-Apr-2025 — Clair Obscur : Expedition 33 is a phenomenal RPG, telling a heartbreaking tale while incorporating \n",
       "thrilling action into its tactical turn-based combat.\n",
       "\n",
       "[No, Clair Obscur: Expedition 33 wasn't \"made\" by 30 \n",
       "people](https://www.rockpapershotgun.com/no-clair-obscur-expedition-33-wasnt-made-by-30-people)\n",
       "28-Apr-2025 — If Clair Obscur : Expedition 33 was made by 500 people, it'd still be an incredible work. It has the \n",
       "good game sauce, and clearly came from a place of love, ...\n",
       "\n",
       "[Clair Obscur : Expedition 33 (Original Soundtrack) 68 - Lost Voice](https://www.youtube.com/watch?v=t-0mhtjEATE)\n",
       "Clair Obscur : Expedition 33 - Lost VoiceComposed by Lorien Testard ft.\n",
       "\n",
       "[Lost Voice Clair Obscur | TikTok](https://www.tiktok.com/discover/lost-voice-clair-obscur)\n",
       "Expédition 33 Lost Voice # clairobscur # expedition 33 #clairobscurexpedition 33 Expédition 33 : Voix Perdue et \n",
       "Mystères. Découvrez les détails fascinants de l' Expédition 33 et la voix perdue. more from Lost Voice ( Clair \n",
       "Obscur : Expedition 33 ) arra...\n",
       "\n",
       "[Expedition 33 Character Builds | Clair Obscur \n",
       "｜Game8](https://game8.co/games/Clair-Obscur-Expedition-33/archives/517352)\n",
       "Clair Obscur Expedition 33 - Level Up Your Attributes Builds in Clair Obscur : Expedition 33 is influenced by the \n",
       "character's attributes. These attributes contribute greatly to how a character performs or plays and are the \n",
       "deciding factor in whether the build works or not.\n",
       "\n",
       "[Music Records | Expedition 33 Wiki](https://expedition33.wiki.fextralife.com/Music+Records)\n",
       "Reviews . Guides. Clair Obscur : Expedition 33 features a total of 33 Music Records, and finding all rewards the \n",
       "player with the Trophy/Achievement \"Connoisseur\". This page covers a list of all the Musical Records and where to \n",
       "find them in Clair Obscur Expedition 33 .\n"
      ]
     },
     "metadata": {},
     "output_type": "display_data"
    },
    {
     "data": {
      "text/html": [
       "<pre style=\"white-space:pre;overflow-x:auto;line-height:normal;font-family:Menlo,'DejaVu Sans Mono',consolas,'Courier New',monospace\"><span style=\"color: #7f7f7f; text-decoration-color: #7f7f7f\">[Step 5: Duration 10.02 seconds| Input tokens: 21,540 | Output tokens: 443]</span>\n",
       "</pre>\n"
      ],
      "text/plain": [
       "\u001b[2m[Step 5: Duration 10.02 seconds| Input tokens: 21,540 | Output tokens: 443]\u001b[0m\n"
      ]
     },
     "metadata": {},
     "output_type": "display_data"
    },
    {
     "data": {
      "text/html": [
       "<pre style=\"white-space:pre;overflow-x:auto;line-height:normal;font-family:Menlo,'DejaVu Sans Mono',consolas,'Courier New',monospace\"><span style=\"color: #d4b702; text-decoration-color: #d4b702\">━━━━━━━━━━━━━━━━━━━━━━━━━━━━━━━━━━━━━━━━━━━━━━━━━━━━━ </span><span style=\"font-weight: bold\">Step 6</span><span style=\"color: #d4b702; text-decoration-color: #d4b702\"> ━━━━━━━━━━━━━━━━━━━━━━━━━━━━━━━━━━━━━━━━━━━━━━━━━━━━━━</span>\n",
       "</pre>\n"
      ],
      "text/plain": [
       "\u001b[38;2;212;183;2m━━━━━━━━━━━━━━━━━━━━━━━━━━━━━━━━━━━━━━━━━━━━━━━━━━━━━ \u001b[0m\u001b[1mStep 6\u001b[0m\u001b[38;2;212;183;2m ━━━━━━━━━━━━━━━━━━━━━━━━━━━━━━━━━━━━━━━━━━━━━━━━━━━━━━\u001b[0m\n"
      ]
     },
     "metadata": {},
     "output_type": "display_data"
    },
    {
     "data": {
      "text/html": [
       "<pre style=\"white-space:pre;overflow-x:auto;line-height:normal;font-family:Menlo,'DejaVu Sans Mono',consolas,'Courier New',monospace\"> ─ <span style=\"font-weight: bold\">Executing parsed code:</span> ──────────────────────────────────────────────────────────────────────────────────────── \n",
       "  <span style=\"color: #f8f8f2; text-decoration-color: #f8f8f2; background-color: #272822\">final_answer(</span><span style=\"color: #e6db74; text-decoration-color: #e6db74; background-color: #272822\">\"Lumière\"</span><span style=\"color: #f8f8f2; text-decoration-color: #f8f8f2; background-color: #272822\">)</span><span style=\"background-color: #272822\">                                                                                        </span>  \n",
       " ───────────────────────────────────────────────────────────────────────────────────────────────────────────────── \n",
       "</pre>\n"
      ],
      "text/plain": [
       " ─ \u001b[1mExecuting parsed code:\u001b[0m ──────────────────────────────────────────────────────────────────────────────────────── \n",
       "  \u001b[38;2;248;248;242;48;2;39;40;34mfinal_answer\u001b[0m\u001b[38;2;248;248;242;48;2;39;40;34m(\u001b[0m\u001b[38;2;230;219;116;48;2;39;40;34m\"\u001b[0m\u001b[38;2;230;219;116;48;2;39;40;34mLumière\u001b[0m\u001b[38;2;230;219;116;48;2;39;40;34m\"\u001b[0m\u001b[38;2;248;248;242;48;2;39;40;34m)\u001b[0m\u001b[48;2;39;40;34m                                                                                        \u001b[0m  \n",
       " ───────────────────────────────────────────────────────────────────────────────────────────────────────────────── \n"
      ]
     },
     "metadata": {},
     "output_type": "display_data"
    },
    {
     "data": {
      "text/html": [
       "<pre style=\"white-space:pre;overflow-x:auto;line-height:normal;font-family:Menlo,'DejaVu Sans Mono',consolas,'Courier New',monospace\"></pre>\n"
      ],
      "text/plain": []
     },
     "metadata": {},
     "output_type": "display_data"
    },
    {
     "data": {
      "text/html": [
       "<pre style=\"white-space:pre;overflow-x:auto;line-height:normal;font-family:Menlo,'DejaVu Sans Mono',consolas,'Courier New',monospace\"><span style=\"color: #d4b702; text-decoration-color: #d4b702; font-weight: bold\">Final answer: Lumière</span>\n",
       "</pre>\n"
      ],
      "text/plain": [
       "\u001b[1;38;2;212;183;2mFinal answer: Lumière\u001b[0m\n"
      ]
     },
     "metadata": {},
     "output_type": "display_data"
    },
    {
     "data": {
      "text/html": [
       "<pre style=\"white-space:pre;overflow-x:auto;line-height:normal;font-family:Menlo,'DejaVu Sans Mono',consolas,'Courier New',monospace\"><span style=\"color: #7f7f7f; text-decoration-color: #7f7f7f\">[Step 6: Duration 2.13 seconds| Input tokens: 32,267 | Output tokens: 547]</span>\n",
       "</pre>\n"
      ],
      "text/plain": [
       "\u001b[2m[Step 6: Duration 2.13 seconds| Input tokens: 32,267 | Output tokens: 547]\u001b[0m\n"
      ]
     },
     "metadata": {},
     "output_type": "display_data"
    },
    {
     "data": {
      "text/plain": [
       "'Lumière'"
      ]
     },
     "execution_count": 4,
     "metadata": {},
     "output_type": "execute_result"
    }
   ],
   "source": [
    "from smolagents import CodeAgent, DuckDuckGoSearchTool, InferenceClientModel\n",
    "\n",
    "## Providing tools and model to the agent\n",
    "agent = CodeAgent(tools = [DuckDuckGoSearchTool()], model = InferenceClientModel())\n",
    "\n",
    "agent.run(\"Search for the best music recommendation from Clair Obscur Expedition 33\")"
   ]
  },
  {
   "cell_type": "markdown",
   "id": "27524beb",
   "metadata": {},
   "source": [
    "### Custom Tool for Suggesting Menu\n",
    "We will use the @tool decorator to define a custom function that acts as a tool. "
   ]
  },
  {
   "cell_type": "code",
   "execution_count": 5,
   "id": "995f4d1a",
   "metadata": {},
   "outputs": [
    {
     "data": {
      "text/html": [
       "<pre style=\"white-space:pre;overflow-x:auto;line-height:normal;font-family:Menlo,'DejaVu Sans Mono',consolas,'Courier New',monospace\"><span style=\"color: #d4b702; text-decoration-color: #d4b702\">╭──────────────────────────────────────────────────── </span><span style=\"color: #d4b702; text-decoration-color: #d4b702; font-weight: bold\">New run</span><span style=\"color: #d4b702; text-decoration-color: #d4b702\"> ────────────────────────────────────────────────────╮</span>\n",
       "<span style=\"color: #d4b702; text-decoration-color: #d4b702\">│</span>                                                                                                                 <span style=\"color: #d4b702; text-decoration-color: #d4b702\">│</span>\n",
       "<span style=\"color: #d4b702; text-decoration-color: #d4b702\">│</span> <span style=\"font-weight: bold\">Prepare a chill menu for a video game party</span>                                                                     <span style=\"color: #d4b702; text-decoration-color: #d4b702\">│</span>\n",
       "<span style=\"color: #d4b702; text-decoration-color: #d4b702\">│</span>                                                                                                                 <span style=\"color: #d4b702; text-decoration-color: #d4b702\">│</span>\n",
       "<span style=\"color: #d4b702; text-decoration-color: #d4b702\">╰─ InferenceClientModel - Qwen/Qwen2.5-Coder-32B-Instruct ────────────────────────────────────────────────────────╯</span>\n",
       "</pre>\n"
      ],
      "text/plain": [
       "\u001b[38;2;212;183;2m╭─\u001b[0m\u001b[38;2;212;183;2m───────────────────────────────────────────────────\u001b[0m\u001b[38;2;212;183;2m \u001b[0m\u001b[1;38;2;212;183;2mNew run\u001b[0m\u001b[38;2;212;183;2m \u001b[0m\u001b[38;2;212;183;2m───────────────────────────────────────────────────\u001b[0m\u001b[38;2;212;183;2m─╮\u001b[0m\n",
       "\u001b[38;2;212;183;2m│\u001b[0m                                                                                                                 \u001b[38;2;212;183;2m│\u001b[0m\n",
       "\u001b[38;2;212;183;2m│\u001b[0m \u001b[1mPrepare a chill menu for a video game party\u001b[0m                                                                     \u001b[38;2;212;183;2m│\u001b[0m\n",
       "\u001b[38;2;212;183;2m│\u001b[0m                                                                                                                 \u001b[38;2;212;183;2m│\u001b[0m\n",
       "\u001b[38;2;212;183;2m╰─\u001b[0m\u001b[38;2;212;183;2m InferenceClientModel - Qwen/Qwen2.5-Coder-32B-Instruct \u001b[0m\u001b[38;2;212;183;2m───────────────────────────────────────────────────────\u001b[0m\u001b[38;2;212;183;2m─╯\u001b[0m\n"
      ]
     },
     "metadata": {},
     "output_type": "display_data"
    },
    {
     "data": {
      "text/html": [
       "<pre style=\"white-space:pre;overflow-x:auto;line-height:normal;font-family:Menlo,'DejaVu Sans Mono',consolas,'Courier New',monospace\"><span style=\"color: #d4b702; text-decoration-color: #d4b702\">━━━━━━━━━━━━━━━━━━━━━━━━━━━━━━━━━━━━━━━━━━━━━━━━━━━━━ </span><span style=\"font-weight: bold\">Step 1</span><span style=\"color: #d4b702; text-decoration-color: #d4b702\"> ━━━━━━━━━━━━━━━━━━━━━━━━━━━━━━━━━━━━━━━━━━━━━━━━━━━━━━</span>\n",
       "</pre>\n"
      ],
      "text/plain": [
       "\u001b[38;2;212;183;2m━━━━━━━━━━━━━━━━━━━━━━━━━━━━━━━━━━━━━━━━━━━━━━━━━━━━━ \u001b[0m\u001b[1mStep 1\u001b[0m\u001b[38;2;212;183;2m ━━━━━━━━━━━━━━━━━━━━━━━━━━━━━━━━━━━━━━━━━━━━━━━━━━━━━━\u001b[0m\n"
      ]
     },
     "metadata": {},
     "output_type": "display_data"
    },
    {
     "data": {
      "text/html": [
       "<pre style=\"white-space:pre;overflow-x:auto;line-height:normal;font-family:Menlo,'DejaVu Sans Mono',consolas,'Courier New',monospace\"> ─ <span style=\"font-weight: bold\">Executing parsed code:</span> ──────────────────────────────────────────────────────────────────────────────────────── \n",
       "  <span style=\"color: #f8f8f2; text-decoration-color: #f8f8f2; background-color: #272822\">chill_menu </span><span style=\"color: #ff4689; text-decoration-color: #ff4689; background-color: #272822\">=</span><span style=\"color: #f8f8f2; text-decoration-color: #f8f8f2; background-color: #272822\"> suggest_menu(occassion</span><span style=\"color: #ff4689; text-decoration-color: #ff4689; background-color: #272822\">=</span><span style=\"color: #e6db74; text-decoration-color: #e6db74; background-color: #272822\">\"Casual\"</span><span style=\"color: #f8f8f2; text-decoration-color: #f8f8f2; background-color: #272822\">)</span><span style=\"background-color: #272822\">                                                                  </span>  \n",
       "  <span style=\"color: #f8f8f2; text-decoration-color: #f8f8f2; background-color: #272822\">print(chill_menu)</span><span style=\"background-color: #272822\">                                                                                              </span>  \n",
       " ───────────────────────────────────────────────────────────────────────────────────────────────────────────────── \n",
       "</pre>\n"
      ],
      "text/plain": [
       " ─ \u001b[1mExecuting parsed code:\u001b[0m ──────────────────────────────────────────────────────────────────────────────────────── \n",
       "  \u001b[38;2;248;248;242;48;2;39;40;34mchill_menu\u001b[0m\u001b[38;2;248;248;242;48;2;39;40;34m \u001b[0m\u001b[38;2;255;70;137;48;2;39;40;34m=\u001b[0m\u001b[38;2;248;248;242;48;2;39;40;34m \u001b[0m\u001b[38;2;248;248;242;48;2;39;40;34msuggest_menu\u001b[0m\u001b[38;2;248;248;242;48;2;39;40;34m(\u001b[0m\u001b[38;2;248;248;242;48;2;39;40;34moccassion\u001b[0m\u001b[38;2;255;70;137;48;2;39;40;34m=\u001b[0m\u001b[38;2;230;219;116;48;2;39;40;34m\"\u001b[0m\u001b[38;2;230;219;116;48;2;39;40;34mCasual\u001b[0m\u001b[38;2;230;219;116;48;2;39;40;34m\"\u001b[0m\u001b[38;2;248;248;242;48;2;39;40;34m)\u001b[0m\u001b[48;2;39;40;34m                                                                  \u001b[0m  \n",
       "  \u001b[38;2;248;248;242;48;2;39;40;34mprint\u001b[0m\u001b[38;2;248;248;242;48;2;39;40;34m(\u001b[0m\u001b[38;2;248;248;242;48;2;39;40;34mchill_menu\u001b[0m\u001b[38;2;248;248;242;48;2;39;40;34m)\u001b[0m\u001b[48;2;39;40;34m                                                                                              \u001b[0m  \n",
       " ───────────────────────────────────────────────────────────────────────────────────────────────────────────────── \n"
      ]
     },
     "metadata": {},
     "output_type": "display_data"
    },
    {
     "data": {
      "text/html": [
       "<pre style=\"white-space:pre;overflow-x:auto;line-height:normal;font-family:Menlo,'DejaVu Sans Mono',consolas,'Courier New',monospace\"><span style=\"font-weight: bold\">Execution logs:</span>\n",
       "Custom menu\n",
       "\n",
       "Out: None\n",
       "</pre>\n"
      ],
      "text/plain": [
       "\u001b[1mExecution logs:\u001b[0m\n",
       "Custom menu\n",
       "\n",
       "Out: None\n"
      ]
     },
     "metadata": {},
     "output_type": "display_data"
    },
    {
     "data": {
      "text/html": [
       "<pre style=\"white-space:pre;overflow-x:auto;line-height:normal;font-family:Menlo,'DejaVu Sans Mono',consolas,'Courier New',monospace\"><span style=\"color: #7f7f7f; text-decoration-color: #7f7f7f\">[Step 1: Duration 1.29 seconds| Input tokens: 2,042 | Output tokens: 50]</span>\n",
       "</pre>\n"
      ],
      "text/plain": [
       "\u001b[2m[Step 1: Duration 1.29 seconds| Input tokens: 2,042 | Output tokens: 50]\u001b[0m\n"
      ]
     },
     "metadata": {},
     "output_type": "display_data"
    },
    {
     "data": {
      "text/html": [
       "<pre style=\"white-space:pre;overflow-x:auto;line-height:normal;font-family:Menlo,'DejaVu Sans Mono',consolas,'Courier New',monospace\"><span style=\"color: #d4b702; text-decoration-color: #d4b702\">━━━━━━━━━━━━━━━━━━━━━━━━━━━━━━━━━━━━━━━━━━━━━━━━━━━━━ </span><span style=\"font-weight: bold\">Step 2</span><span style=\"color: #d4b702; text-decoration-color: #d4b702\"> ━━━━━━━━━━━━━━━━━━━━━━━━━━━━━━━━━━━━━━━━━━━━━━━━━━━━━━</span>\n",
       "</pre>\n"
      ],
      "text/plain": [
       "\u001b[38;2;212;183;2m━━━━━━━━━━━━━━━━━━━━━━━━━━━━━━━━━━━━━━━━━━━━━━━━━━━━━ \u001b[0m\u001b[1mStep 2\u001b[0m\u001b[38;2;212;183;2m ━━━━━━━━━━━━━━━━━━━━━━━━━━━━━━━━━━━━━━━━━━━━━━━━━━━━━━\u001b[0m\n"
      ]
     },
     "metadata": {},
     "output_type": "display_data"
    },
    {
     "data": {
      "text/html": [
       "<pre style=\"white-space:pre;overflow-x:auto;line-height:normal;font-family:Menlo,'DejaVu Sans Mono',consolas,'Courier New',monospace\"> ─ <span style=\"font-weight: bold\">Executing parsed code:</span> ──────────────────────────────────────────────────────────────────────────────────────── \n",
       "  <span style=\"color: #959077; text-decoration-color: #959077; background-color: #272822\"># Suggesting a chill menu for a video game party</span><span style=\"background-color: #272822\">                                                               </span>  \n",
       "  <span style=\"color: #f8f8f2; text-decoration-color: #f8f8f2; background-color: #272822\">chill_menu </span><span style=\"color: #ff4689; text-decoration-color: #ff4689; background-color: #272822\">=</span><span style=\"color: #f8f8f2; text-decoration-color: #f8f8f2; background-color: #272822\"> {</span><span style=\"background-color: #272822\">                                                                                                 </span>  \n",
       "  <span style=\"color: #f8f8f2; text-decoration-color: #f8f8f2; background-color: #272822\">    </span><span style=\"color: #e6db74; text-decoration-color: #e6db74; background-color: #272822\">\"Appetizers\"</span><span style=\"color: #f8f8f2; text-decoration-color: #f8f8f2; background-color: #272822\">: [</span><span style=\"color: #e6db74; text-decoration-color: #e6db74; background-color: #272822\">\"Chips and Salsa\"</span><span style=\"color: #f8f8f2; text-decoration-color: #f8f8f2; background-color: #272822\">, </span><span style=\"color: #e6db74; text-decoration-color: #e6db74; background-color: #272822\">\"Vegetable Platter with Hummus\"</span><span style=\"color: #f8f8f2; text-decoration-color: #f8f8f2; background-color: #272822\">, </span><span style=\"color: #e6db74; text-decoration-color: #e6db74; background-color: #272822\">\"Nachos\"</span><span style=\"color: #f8f8f2; text-decoration-color: #f8f8f2; background-color: #272822\">],</span><span style=\"background-color: #272822\">                              </span>  \n",
       "  <span style=\"color: #f8f8f2; text-decoration-color: #f8f8f2; background-color: #272822\">    </span><span style=\"color: #e6db74; text-decoration-color: #e6db74; background-color: #272822\">\"Main Courses\"</span><span style=\"color: #f8f8f2; text-decoration-color: #f8f8f2; background-color: #272822\">: [</span><span style=\"color: #e6db74; text-decoration-color: #e6db74; background-color: #272822\">\"Pizza\"</span><span style=\"color: #f8f8f2; text-decoration-color: #f8f8f2; background-color: #272822\">, </span><span style=\"color: #e6db74; text-decoration-color: #e6db74; background-color: #272822\">\"Chicken Wings\"</span><span style=\"color: #f8f8f2; text-decoration-color: #f8f8f2; background-color: #272822\">, </span><span style=\"color: #e6db74; text-decoration-color: #e6db74; background-color: #272822\">\"Taco Salad\"</span><span style=\"color: #f8f8f2; text-decoration-color: #f8f8f2; background-color: #272822\">],</span><span style=\"background-color: #272822\">                                                  </span>  \n",
       "  <span style=\"color: #f8f8f2; text-decoration-color: #f8f8f2; background-color: #272822\">    </span><span style=\"color: #e6db74; text-decoration-color: #e6db74; background-color: #272822\">\"Desserts\"</span><span style=\"color: #f8f8f2; text-decoration-color: #f8f8f2; background-color: #272822\">: [</span><span style=\"color: #e6db74; text-decoration-color: #e6db74; background-color: #272822\">\"Cheesecake\"</span><span style=\"color: #f8f8f2; text-decoration-color: #f8f8f2; background-color: #272822\">, </span><span style=\"color: #e6db74; text-decoration-color: #e6db74; background-color: #272822\">\"Ice Cream\"</span><span style=\"color: #f8f8f2; text-decoration-color: #f8f8f2; background-color: #272822\">, </span><span style=\"color: #e6db74; text-decoration-color: #e6db74; background-color: #272822\">\"Fruit Salad\"</span><span style=\"color: #f8f8f2; text-decoration-color: #f8f8f2; background-color: #272822\">],</span><span style=\"background-color: #272822\">                                                    </span>  \n",
       "  <span style=\"color: #f8f8f2; text-decoration-color: #f8f8f2; background-color: #272822\">    </span><span style=\"color: #e6db74; text-decoration-color: #e6db74; background-color: #272822\">\"Beverages\"</span><span style=\"color: #f8f8f2; text-decoration-color: #f8f8f2; background-color: #272822\">: [</span><span style=\"color: #e6db74; text-decoration-color: #e6db74; background-color: #272822\">\"Soda\"</span><span style=\"color: #f8f8f2; text-decoration-color: #f8f8f2; background-color: #272822\">, </span><span style=\"color: #e6db74; text-decoration-color: #e6db74; background-color: #272822\">\"Juice\"</span><span style=\"color: #f8f8f2; text-decoration-color: #f8f8f2; background-color: #272822\">, </span><span style=\"color: #e6db74; text-decoration-color: #e6db74; background-color: #272822\">\"Water\"</span><span style=\"color: #f8f8f2; text-decoration-color: #f8f8f2; background-color: #272822\">]</span><span style=\"background-color: #272822\">                                                                    </span>  \n",
       "  <span style=\"color: #f8f8f2; text-decoration-color: #f8f8f2; background-color: #272822\">}</span><span style=\"background-color: #272822\">                                                                                                              </span>  \n",
       "  <span style=\"color: #f8f8f2; text-decoration-color: #f8f8f2; background-color: #272822\">print(chill_menu)</span><span style=\"background-color: #272822\">                                                                                              </span>  \n",
       " ───────────────────────────────────────────────────────────────────────────────────────────────────────────────── \n",
       "</pre>\n"
      ],
      "text/plain": [
       " ─ \u001b[1mExecuting parsed code:\u001b[0m ──────────────────────────────────────────────────────────────────────────────────────── \n",
       "  \u001b[38;2;149;144;119;48;2;39;40;34m# Suggesting a chill menu for a video game party\u001b[0m\u001b[48;2;39;40;34m                                                               \u001b[0m  \n",
       "  \u001b[38;2;248;248;242;48;2;39;40;34mchill_menu\u001b[0m\u001b[38;2;248;248;242;48;2;39;40;34m \u001b[0m\u001b[38;2;255;70;137;48;2;39;40;34m=\u001b[0m\u001b[38;2;248;248;242;48;2;39;40;34m \u001b[0m\u001b[38;2;248;248;242;48;2;39;40;34m{\u001b[0m\u001b[48;2;39;40;34m                                                                                                 \u001b[0m  \n",
       "  \u001b[38;2;248;248;242;48;2;39;40;34m    \u001b[0m\u001b[38;2;230;219;116;48;2;39;40;34m\"\u001b[0m\u001b[38;2;230;219;116;48;2;39;40;34mAppetizers\u001b[0m\u001b[38;2;230;219;116;48;2;39;40;34m\"\u001b[0m\u001b[38;2;248;248;242;48;2;39;40;34m:\u001b[0m\u001b[38;2;248;248;242;48;2;39;40;34m \u001b[0m\u001b[38;2;248;248;242;48;2;39;40;34m[\u001b[0m\u001b[38;2;230;219;116;48;2;39;40;34m\"\u001b[0m\u001b[38;2;230;219;116;48;2;39;40;34mChips and Salsa\u001b[0m\u001b[38;2;230;219;116;48;2;39;40;34m\"\u001b[0m\u001b[38;2;248;248;242;48;2;39;40;34m,\u001b[0m\u001b[38;2;248;248;242;48;2;39;40;34m \u001b[0m\u001b[38;2;230;219;116;48;2;39;40;34m\"\u001b[0m\u001b[38;2;230;219;116;48;2;39;40;34mVegetable Platter with Hummus\u001b[0m\u001b[38;2;230;219;116;48;2;39;40;34m\"\u001b[0m\u001b[38;2;248;248;242;48;2;39;40;34m,\u001b[0m\u001b[38;2;248;248;242;48;2;39;40;34m \u001b[0m\u001b[38;2;230;219;116;48;2;39;40;34m\"\u001b[0m\u001b[38;2;230;219;116;48;2;39;40;34mNachos\u001b[0m\u001b[38;2;230;219;116;48;2;39;40;34m\"\u001b[0m\u001b[38;2;248;248;242;48;2;39;40;34m]\u001b[0m\u001b[38;2;248;248;242;48;2;39;40;34m,\u001b[0m\u001b[48;2;39;40;34m                              \u001b[0m  \n",
       "  \u001b[38;2;248;248;242;48;2;39;40;34m    \u001b[0m\u001b[38;2;230;219;116;48;2;39;40;34m\"\u001b[0m\u001b[38;2;230;219;116;48;2;39;40;34mMain Courses\u001b[0m\u001b[38;2;230;219;116;48;2;39;40;34m\"\u001b[0m\u001b[38;2;248;248;242;48;2;39;40;34m:\u001b[0m\u001b[38;2;248;248;242;48;2;39;40;34m \u001b[0m\u001b[38;2;248;248;242;48;2;39;40;34m[\u001b[0m\u001b[38;2;230;219;116;48;2;39;40;34m\"\u001b[0m\u001b[38;2;230;219;116;48;2;39;40;34mPizza\u001b[0m\u001b[38;2;230;219;116;48;2;39;40;34m\"\u001b[0m\u001b[38;2;248;248;242;48;2;39;40;34m,\u001b[0m\u001b[38;2;248;248;242;48;2;39;40;34m \u001b[0m\u001b[38;2;230;219;116;48;2;39;40;34m\"\u001b[0m\u001b[38;2;230;219;116;48;2;39;40;34mChicken Wings\u001b[0m\u001b[38;2;230;219;116;48;2;39;40;34m\"\u001b[0m\u001b[38;2;248;248;242;48;2;39;40;34m,\u001b[0m\u001b[38;2;248;248;242;48;2;39;40;34m \u001b[0m\u001b[38;2;230;219;116;48;2;39;40;34m\"\u001b[0m\u001b[38;2;230;219;116;48;2;39;40;34mTaco Salad\u001b[0m\u001b[38;2;230;219;116;48;2;39;40;34m\"\u001b[0m\u001b[38;2;248;248;242;48;2;39;40;34m]\u001b[0m\u001b[38;2;248;248;242;48;2;39;40;34m,\u001b[0m\u001b[48;2;39;40;34m                                                  \u001b[0m  \n",
       "  \u001b[38;2;248;248;242;48;2;39;40;34m    \u001b[0m\u001b[38;2;230;219;116;48;2;39;40;34m\"\u001b[0m\u001b[38;2;230;219;116;48;2;39;40;34mDesserts\u001b[0m\u001b[38;2;230;219;116;48;2;39;40;34m\"\u001b[0m\u001b[38;2;248;248;242;48;2;39;40;34m:\u001b[0m\u001b[38;2;248;248;242;48;2;39;40;34m \u001b[0m\u001b[38;2;248;248;242;48;2;39;40;34m[\u001b[0m\u001b[38;2;230;219;116;48;2;39;40;34m\"\u001b[0m\u001b[38;2;230;219;116;48;2;39;40;34mCheesecake\u001b[0m\u001b[38;2;230;219;116;48;2;39;40;34m\"\u001b[0m\u001b[38;2;248;248;242;48;2;39;40;34m,\u001b[0m\u001b[38;2;248;248;242;48;2;39;40;34m \u001b[0m\u001b[38;2;230;219;116;48;2;39;40;34m\"\u001b[0m\u001b[38;2;230;219;116;48;2;39;40;34mIce Cream\u001b[0m\u001b[38;2;230;219;116;48;2;39;40;34m\"\u001b[0m\u001b[38;2;248;248;242;48;2;39;40;34m,\u001b[0m\u001b[38;2;248;248;242;48;2;39;40;34m \u001b[0m\u001b[38;2;230;219;116;48;2;39;40;34m\"\u001b[0m\u001b[38;2;230;219;116;48;2;39;40;34mFruit Salad\u001b[0m\u001b[38;2;230;219;116;48;2;39;40;34m\"\u001b[0m\u001b[38;2;248;248;242;48;2;39;40;34m]\u001b[0m\u001b[38;2;248;248;242;48;2;39;40;34m,\u001b[0m\u001b[48;2;39;40;34m                                                    \u001b[0m  \n",
       "  \u001b[38;2;248;248;242;48;2;39;40;34m    \u001b[0m\u001b[38;2;230;219;116;48;2;39;40;34m\"\u001b[0m\u001b[38;2;230;219;116;48;2;39;40;34mBeverages\u001b[0m\u001b[38;2;230;219;116;48;2;39;40;34m\"\u001b[0m\u001b[38;2;248;248;242;48;2;39;40;34m:\u001b[0m\u001b[38;2;248;248;242;48;2;39;40;34m \u001b[0m\u001b[38;2;248;248;242;48;2;39;40;34m[\u001b[0m\u001b[38;2;230;219;116;48;2;39;40;34m\"\u001b[0m\u001b[38;2;230;219;116;48;2;39;40;34mSoda\u001b[0m\u001b[38;2;230;219;116;48;2;39;40;34m\"\u001b[0m\u001b[38;2;248;248;242;48;2;39;40;34m,\u001b[0m\u001b[38;2;248;248;242;48;2;39;40;34m \u001b[0m\u001b[38;2;230;219;116;48;2;39;40;34m\"\u001b[0m\u001b[38;2;230;219;116;48;2;39;40;34mJuice\u001b[0m\u001b[38;2;230;219;116;48;2;39;40;34m\"\u001b[0m\u001b[38;2;248;248;242;48;2;39;40;34m,\u001b[0m\u001b[38;2;248;248;242;48;2;39;40;34m \u001b[0m\u001b[38;2;230;219;116;48;2;39;40;34m\"\u001b[0m\u001b[38;2;230;219;116;48;2;39;40;34mWater\u001b[0m\u001b[38;2;230;219;116;48;2;39;40;34m\"\u001b[0m\u001b[38;2;248;248;242;48;2;39;40;34m]\u001b[0m\u001b[48;2;39;40;34m                                                                    \u001b[0m  \n",
       "  \u001b[38;2;248;248;242;48;2;39;40;34m}\u001b[0m\u001b[48;2;39;40;34m                                                                                                              \u001b[0m  \n",
       "  \u001b[38;2;248;248;242;48;2;39;40;34mprint\u001b[0m\u001b[38;2;248;248;242;48;2;39;40;34m(\u001b[0m\u001b[38;2;248;248;242;48;2;39;40;34mchill_menu\u001b[0m\u001b[38;2;248;248;242;48;2;39;40;34m)\u001b[0m\u001b[48;2;39;40;34m                                                                                              \u001b[0m  \n",
       " ───────────────────────────────────────────────────────────────────────────────────────────────────────────────── \n"
      ]
     },
     "metadata": {},
     "output_type": "display_data"
    },
    {
     "data": {
      "text/html": [
       "<pre style=\"white-space:pre;overflow-x:auto;line-height:normal;font-family:Menlo,'DejaVu Sans Mono',consolas,'Courier New',monospace\"><span style=\"font-weight: bold\">Execution logs:</span>\n",
       "{'Appetizers': ['Chips and Salsa', 'Vegetable Platter with Hummus', 'Nachos'], 'Main Courses': ['Pizza', 'Chicken \n",
       "Wings', 'Taco Salad'], 'Desserts': ['Cheesecake', 'Ice Cream', 'Fruit Salad'], 'Beverages': ['Soda', 'Juice', \n",
       "'Water']}\n",
       "\n",
       "Out: None\n",
       "</pre>\n"
      ],
      "text/plain": [
       "\u001b[1mExecution logs:\u001b[0m\n",
       "{'Appetizers': ['Chips and Salsa', 'Vegetable Platter with Hummus', 'Nachos'], 'Main Courses': ['Pizza', 'Chicken \n",
       "Wings', 'Taco Salad'], 'Desserts': ['Cheesecake', 'Ice Cream', 'Fruit Salad'], 'Beverages': ['Soda', 'Juice', \n",
       "'Water']}\n",
       "\n",
       "Out: None\n"
      ]
     },
     "metadata": {},
     "output_type": "display_data"
    },
    {
     "data": {
      "text/html": [
       "<pre style=\"white-space:pre;overflow-x:auto;line-height:normal;font-family:Menlo,'DejaVu Sans Mono',consolas,'Courier New',monospace\"><span style=\"color: #7f7f7f; text-decoration-color: #7f7f7f\">[Step 2: Duration 2.26 seconds| Input tokens: 4,216 | Output tokens: 204]</span>\n",
       "</pre>\n"
      ],
      "text/plain": [
       "\u001b[2m[Step 2: Duration 2.26 seconds| Input tokens: 4,216 | Output tokens: 204]\u001b[0m\n"
      ]
     },
     "metadata": {},
     "output_type": "display_data"
    },
    {
     "data": {
      "text/html": [
       "<pre style=\"white-space:pre;overflow-x:auto;line-height:normal;font-family:Menlo,'DejaVu Sans Mono',consolas,'Courier New',monospace\"><span style=\"color: #d4b702; text-decoration-color: #d4b702\">━━━━━━━━━━━━━━━━━━━━━━━━━━━━━━━━━━━━━━━━━━━━━━━━━━━━━ </span><span style=\"font-weight: bold\">Step 3</span><span style=\"color: #d4b702; text-decoration-color: #d4b702\"> ━━━━━━━━━━━━━━━━━━━━━━━━━━━━━━━━━━━━━━━━━━━━━━━━━━━━━━</span>\n",
       "</pre>\n"
      ],
      "text/plain": [
       "\u001b[38;2;212;183;2m━━━━━━━━━━━━━━━━━━━━━━━━━━━━━━━━━━━━━━━━━━━━━━━━━━━━━ \u001b[0m\u001b[1mStep 3\u001b[0m\u001b[38;2;212;183;2m ━━━━━━━━━━━━━━━━━━━━━━━━━━━━━━━━━━━━━━━━━━━━━━━━━━━━━━\u001b[0m\n"
      ]
     },
     "metadata": {},
     "output_type": "display_data"
    },
    {
     "data": {
      "text/html": [
       "<pre style=\"white-space:pre;overflow-x:auto;line-height:normal;font-family:Menlo,'DejaVu Sans Mono',consolas,'Courier New',monospace\"> ─ <span style=\"font-weight: bold\">Executing parsed code:</span> ──────────────────────────────────────────────────────────────────────────────────────── \n",
       "  <span style=\"color: #f8f8f2; text-decoration-color: #f8f8f2; background-color: #272822\">final_answer(chill_menu)</span><span style=\"background-color: #272822\">                                                                                       </span>  \n",
       " ───────────────────────────────────────────────────────────────────────────────────────────────────────────────── \n",
       "</pre>\n"
      ],
      "text/plain": [
       " ─ \u001b[1mExecuting parsed code:\u001b[0m ──────────────────────────────────────────────────────────────────────────────────────── \n",
       "  \u001b[38;2;248;248;242;48;2;39;40;34mfinal_answer\u001b[0m\u001b[38;2;248;248;242;48;2;39;40;34m(\u001b[0m\u001b[38;2;248;248;242;48;2;39;40;34mchill_menu\u001b[0m\u001b[38;2;248;248;242;48;2;39;40;34m)\u001b[0m\u001b[48;2;39;40;34m                                                                                       \u001b[0m  \n",
       " ───────────────────────────────────────────────────────────────────────────────────────────────────────────────── \n"
      ]
     },
     "metadata": {},
     "output_type": "display_data"
    },
    {
     "data": {
      "text/html": [
       "<pre style=\"white-space:pre;overflow-x:auto;line-height:normal;font-family:Menlo,'DejaVu Sans Mono',consolas,'Courier New',monospace\"></pre>\n"
      ],
      "text/plain": []
     },
     "metadata": {},
     "output_type": "display_data"
    },
    {
     "data": {
      "text/html": [
       "<pre style=\"white-space:pre;overflow-x:auto;line-height:normal;font-family:Menlo,'DejaVu Sans Mono',consolas,'Courier New',monospace\"><span style=\"color: #d4b702; text-decoration-color: #d4b702; font-weight: bold\">Final answer: {'Appetizers': ['Chips and Salsa', 'Vegetable Platter with Hummus', 'Nachos'], 'Main Courses': </span>\n",
       "<span style=\"color: #d4b702; text-decoration-color: #d4b702; font-weight: bold\">['Pizza', 'Chicken Wings', 'Taco Salad'], 'Desserts': ['Cheesecake', 'Ice Cream', 'Fruit Salad'], 'Beverages': </span>\n",
       "<span style=\"color: #d4b702; text-decoration-color: #d4b702; font-weight: bold\">['Soda', 'Juice', 'Water']}</span>\n",
       "</pre>\n"
      ],
      "text/plain": [
       "\u001b[1;38;2;212;183;2mFinal answer: {'Appetizers': ['Chips and Salsa', 'Vegetable Platter with Hummus', 'Nachos'], 'Main Courses': \u001b[0m\n",
       "\u001b[1;38;2;212;183;2m['Pizza', 'Chicken Wings', 'Taco Salad'], 'Desserts': ['Cheesecake', 'Ice Cream', 'Fruit Salad'], 'Beverages': \u001b[0m\n",
       "\u001b[1;38;2;212;183;2m['Soda', 'Juice', 'Water']}\u001b[0m\n"
      ]
     },
     "metadata": {},
     "output_type": "display_data"
    },
    {
     "data": {
      "text/html": [
       "<pre style=\"white-space:pre;overflow-x:auto;line-height:normal;font-family:Menlo,'DejaVu Sans Mono',consolas,'Courier New',monospace\"><span style=\"color: #7f7f7f; text-decoration-color: #7f7f7f\">[Step 3: Duration 1.26 seconds| Input tokens: 6,793 | Output tokens: 246]</span>\n",
       "</pre>\n"
      ],
      "text/plain": [
       "\u001b[2m[Step 3: Duration 1.26 seconds| Input tokens: 6,793 | Output tokens: 246]\u001b[0m\n"
      ]
     },
     "metadata": {},
     "output_type": "display_data"
    },
    {
     "data": {
      "text/plain": [
       "{'Appetizers': ['Chips and Salsa', 'Vegetable Platter with Hummus', 'Nachos'],\n",
       " 'Main Courses': ['Pizza', 'Chicken Wings', 'Taco Salad'],\n",
       " 'Desserts': ['Cheesecake', 'Ice Cream', 'Fruit Salad'],\n",
       " 'Beverages': ['Soda', 'Juice', 'Water']}"
      ]
     },
     "execution_count": 5,
     "metadata": {},
     "output_type": "execute_result"
    }
   ],
   "source": [
    "from smolagents import CodeAgent, tool, InferenceClientModel\n",
    "\n",
    "# Custom tool\n",
    "@tool\n",
    "def suggest_menu(occassion: str) -> str:\n",
    "    \"\"\"\n",
    "    Suggests a menu based on the occassion.\n",
    "    Args:\n",
    "        occassion (str): The type of occassion for the party. Allowed values are:\n",
    "                        - \"Casual\" Menu for casual, chill, and relaxed party.\n",
    "                        - \"Formal\" Menu for formal, elegant party.\n",
    "                        - \"Superhero\" Menu for superhero, kids party.\n",
    "                        - \"Custom\" Custom menu.\n",
    "    \"\"\"\n",
    "    if occassion == \"Causal\":\n",
    "        return \"Pizza, Snacks, and Drinks.\"\n",
    "    elif occassion == \"Formal\":\n",
    "        return \"3-course dinner with wine and dessert\"\n",
    "    elif occassion == \"Superhero\":\n",
    "        return \"Buffet with high-energy and healthy food\"\n",
    "    else:\n",
    "        return \"Custom menu\"\n",
    "    \n",
    "# Providing tools and model to the agent\n",
    "agent = CodeAgent(tools=[suggest_menu], model=InferenceClientModel())\n",
    "\n",
    "agent.run(\"Prepare a chill menu for a video game party\")\n"
   ]
  },
  {
   "cell_type": "markdown",
   "id": "c2601f16",
   "metadata": {},
   "source": [
    "### Using Python Imports \n",
    "We can also use Python imports inside the agent. We can authorize additional imports by passing them in a string in additional_authorized_imports"
   ]
  },
  {
   "cell_type": "code",
   "execution_count": 6,
   "id": "ee1e186d",
   "metadata": {},
   "outputs": [
    {
     "data": {
      "text/html": [
       "<pre style=\"white-space:pre;overflow-x:auto;line-height:normal;font-family:Menlo,'DejaVu Sans Mono',consolas,'Courier New',monospace\"><span style=\"color: #d4b702; text-decoration-color: #d4b702\">╭──────────────────────────────────────────────────── </span><span style=\"color: #d4b702; text-decoration-color: #d4b702; font-weight: bold\">New run</span><span style=\"color: #d4b702; text-decoration-color: #d4b702\"> ────────────────────────────────────────────────────╮</span>\n",
       "<span style=\"color: #d4b702; text-decoration-color: #d4b702\">│</span>                                                                                                                 <span style=\"color: #d4b702; text-decoration-color: #d4b702\">│</span>\n",
       "<span style=\"color: #d4b702; text-decoration-color: #d4b702\">│</span> <span style=\"font-weight: bold\">You need to prepare for the party. Here are the tasks:</span>                                                          <span style=\"color: #d4b702; text-decoration-color: #d4b702\">│</span>\n",
       "<span style=\"color: #d4b702; text-decoration-color: #d4b702\">│</span> <span style=\"font-weight: bold\">    1. Prepare the drinks - 30 minutes</span>                                                                          <span style=\"color: #d4b702; text-decoration-color: #d4b702\">│</span>\n",
       "<span style=\"color: #d4b702; text-decoration-color: #d4b702\">│</span> <span style=\"font-weight: bold\">    2. Decorate the mansion - 60 minutes</span>                                                                        <span style=\"color: #d4b702; text-decoration-color: #d4b702\">│</span>\n",
       "<span style=\"color: #d4b702; text-decoration-color: #d4b702\">│</span> <span style=\"font-weight: bold\">    3. Set up the menu - 45 minutes</span>                                                                             <span style=\"color: #d4b702; text-decoration-color: #d4b702\">│</span>\n",
       "<span style=\"color: #d4b702; text-decoration-color: #d4b702\">│</span> <span style=\"font-weight: bold\">    4. Prepare the music and playlist - 45 minutes</span>                                                              <span style=\"color: #d4b702; text-decoration-color: #d4b702\">│</span>\n",
       "<span style=\"color: #d4b702; text-decoration-color: #d4b702\">│</span>                                                                                                                 <span style=\"color: #d4b702; text-decoration-color: #d4b702\">│</span>\n",
       "<span style=\"color: #d4b702; text-decoration-color: #d4b702\">│</span> <span style=\"font-weight: bold\">    If we start right now, at what time will the party be ready?</span>                                                <span style=\"color: #d4b702; text-decoration-color: #d4b702\">│</span>\n",
       "<span style=\"color: #d4b702; text-decoration-color: #d4b702\">│</span>                                                                                                                 <span style=\"color: #d4b702; text-decoration-color: #d4b702\">│</span>\n",
       "<span style=\"color: #d4b702; text-decoration-color: #d4b702\">╰─ InferenceClientModel - Qwen/Qwen2.5-Coder-32B-Instruct ────────────────────────────────────────────────────────╯</span>\n",
       "</pre>\n"
      ],
      "text/plain": [
       "\u001b[38;2;212;183;2m╭─\u001b[0m\u001b[38;2;212;183;2m───────────────────────────────────────────────────\u001b[0m\u001b[38;2;212;183;2m \u001b[0m\u001b[1;38;2;212;183;2mNew run\u001b[0m\u001b[38;2;212;183;2m \u001b[0m\u001b[38;2;212;183;2m───────────────────────────────────────────────────\u001b[0m\u001b[38;2;212;183;2m─╮\u001b[0m\n",
       "\u001b[38;2;212;183;2m│\u001b[0m                                                                                                                 \u001b[38;2;212;183;2m│\u001b[0m\n",
       "\u001b[38;2;212;183;2m│\u001b[0m \u001b[1mYou need to prepare for the party. Here are the tasks:\u001b[0m                                                          \u001b[38;2;212;183;2m│\u001b[0m\n",
       "\u001b[38;2;212;183;2m│\u001b[0m \u001b[1m    1. Prepare the drinks - 30 minutes\u001b[0m                                                                          \u001b[38;2;212;183;2m│\u001b[0m\n",
       "\u001b[38;2;212;183;2m│\u001b[0m \u001b[1m    2. Decorate the mansion - 60 minutes\u001b[0m                                                                        \u001b[38;2;212;183;2m│\u001b[0m\n",
       "\u001b[38;2;212;183;2m│\u001b[0m \u001b[1m    3. Set up the menu - 45 minutes\u001b[0m                                                                             \u001b[38;2;212;183;2m│\u001b[0m\n",
       "\u001b[38;2;212;183;2m│\u001b[0m \u001b[1m    4. Prepare the music and playlist - 45 minutes\u001b[0m                                                              \u001b[38;2;212;183;2m│\u001b[0m\n",
       "\u001b[38;2;212;183;2m│\u001b[0m                                                                                                                 \u001b[38;2;212;183;2m│\u001b[0m\n",
       "\u001b[38;2;212;183;2m│\u001b[0m \u001b[1m    If we start right now, at what time will the party be ready?\u001b[0m                                                \u001b[38;2;212;183;2m│\u001b[0m\n",
       "\u001b[38;2;212;183;2m│\u001b[0m                                                                                                                 \u001b[38;2;212;183;2m│\u001b[0m\n",
       "\u001b[38;2;212;183;2m╰─\u001b[0m\u001b[38;2;212;183;2m InferenceClientModel - Qwen/Qwen2.5-Coder-32B-Instruct \u001b[0m\u001b[38;2;212;183;2m───────────────────────────────────────────────────────\u001b[0m\u001b[38;2;212;183;2m─╯\u001b[0m\n"
      ]
     },
     "metadata": {},
     "output_type": "display_data"
    },
    {
     "data": {
      "text/html": [
       "<pre style=\"white-space:pre;overflow-x:auto;line-height:normal;font-family:Menlo,'DejaVu Sans Mono',consolas,'Courier New',monospace\"><span style=\"color: #d4b702; text-decoration-color: #d4b702\">━━━━━━━━━━━━━━━━━━━━━━━━━━━━━━━━━━━━━━━━━━━━━━━━━━━━━ </span><span style=\"font-weight: bold\">Step 1</span><span style=\"color: #d4b702; text-decoration-color: #d4b702\"> ━━━━━━━━━━━━━━━━━━━━━━━━━━━━━━━━━━━━━━━━━━━━━━━━━━━━━━</span>\n",
       "</pre>\n"
      ],
      "text/plain": [
       "\u001b[38;2;212;183;2m━━━━━━━━━━━━━━━━━━━━━━━━━━━━━━━━━━━━━━━━━━━━━━━━━━━━━ \u001b[0m\u001b[1mStep 1\u001b[0m\u001b[38;2;212;183;2m ━━━━━━━━━━━━━━━━━━━━━━━━━━━━━━━━━━━━━━━━━━━━━━━━━━━━━━\u001b[0m\n"
      ]
     },
     "metadata": {},
     "output_type": "display_data"
    },
    {
     "data": {
      "text/html": [
       "<pre style=\"white-space:pre;overflow-x:auto;line-height:normal;font-family:Menlo,'DejaVu Sans Mono',consolas,'Courier New',monospace\"> ─ <span style=\"font-weight: bold\">Executing parsed code:</span> ──────────────────────────────────────────────────────────────────────────────────────── \n",
       "  <span style=\"color: #ff4689; text-decoration-color: #ff4689; background-color: #272822\">import</span><span style=\"color: #f8f8f2; text-decoration-color: #f8f8f2; background-color: #272822\"> datetime</span><span style=\"background-color: #272822\">                                                                                                </span>  \n",
       "  <span style=\"background-color: #272822\">                                                                                                               </span>  \n",
       "  <span style=\"color: #959077; text-decoration-color: #959077; background-color: #272822\"># Define the time required for each task in minutes</span><span style=\"background-color: #272822\">                                                            </span>  \n",
       "  <span style=\"color: #f8f8f2; text-decoration-color: #f8f8f2; background-color: #272822\">task_times </span><span style=\"color: #ff4689; text-decoration-color: #ff4689; background-color: #272822\">=</span><span style=\"color: #f8f8f2; text-decoration-color: #f8f8f2; background-color: #272822\"> {</span><span style=\"background-color: #272822\">                                                                                                 </span>  \n",
       "  <span style=\"color: #f8f8f2; text-decoration-color: #f8f8f2; background-color: #272822\">    </span><span style=\"color: #e6db74; text-decoration-color: #e6db74; background-color: #272822\">\"Prepare the drinks\"</span><span style=\"color: #f8f8f2; text-decoration-color: #f8f8f2; background-color: #272822\">: </span><span style=\"color: #ae81ff; text-decoration-color: #ae81ff; background-color: #272822\">30</span><span style=\"color: #f8f8f2; text-decoration-color: #f8f8f2; background-color: #272822\">,</span><span style=\"background-color: #272822\">                                                                                  </span>  \n",
       "  <span style=\"color: #f8f8f2; text-decoration-color: #f8f8f2; background-color: #272822\">    </span><span style=\"color: #e6db74; text-decoration-color: #e6db74; background-color: #272822\">\"Decorate the mansion\"</span><span style=\"color: #f8f8f2; text-decoration-color: #f8f8f2; background-color: #272822\">: </span><span style=\"color: #ae81ff; text-decoration-color: #ae81ff; background-color: #272822\">60</span><span style=\"color: #f8f8f2; text-decoration-color: #f8f8f2; background-color: #272822\">,</span><span style=\"background-color: #272822\">                                                                                </span>  \n",
       "  <span style=\"color: #f8f8f2; text-decoration-color: #f8f8f2; background-color: #272822\">    </span><span style=\"color: #e6db74; text-decoration-color: #e6db74; background-color: #272822\">\"Set up the menu\"</span><span style=\"color: #f8f8f2; text-decoration-color: #f8f8f2; background-color: #272822\">: </span><span style=\"color: #ae81ff; text-decoration-color: #ae81ff; background-color: #272822\">45</span><span style=\"color: #f8f8f2; text-decoration-color: #f8f8f2; background-color: #272822\">,</span><span style=\"background-color: #272822\">                                                                                     </span>  \n",
       "  <span style=\"color: #f8f8f2; text-decoration-color: #f8f8f2; background-color: #272822\">    </span><span style=\"color: #e6db74; text-decoration-color: #e6db74; background-color: #272822\">\"Prepare the music and playlist\"</span><span style=\"color: #f8f8f2; text-decoration-color: #f8f8f2; background-color: #272822\">: </span><span style=\"color: #ae81ff; text-decoration-color: #ae81ff; background-color: #272822\">45</span><span style=\"background-color: #272822\">                                                                       </span>  \n",
       "  <span style=\"color: #f8f8f2; text-decoration-color: #f8f8f2; background-color: #272822\">}</span><span style=\"background-color: #272822\">                                                                                                              </span>  \n",
       "  <span style=\"background-color: #272822\">                                                                                                               </span>  \n",
       "  <span style=\"color: #959077; text-decoration-color: #959077; background-color: #272822\"># Calculate the total time required for all tasks</span><span style=\"background-color: #272822\">                                                              </span>  \n",
       "  <span style=\"color: #f8f8f2; text-decoration-color: #f8f8f2; background-color: #272822\">total_time_minutes </span><span style=\"color: #ff4689; text-decoration-color: #ff4689; background-color: #272822\">=</span><span style=\"color: #f8f8f2; text-decoration-color: #f8f8f2; background-color: #272822\"> sum(task_times</span><span style=\"color: #ff4689; text-decoration-color: #ff4689; background-color: #272822\">.</span><span style=\"color: #f8f8f2; text-decoration-color: #f8f8f2; background-color: #272822\">values())</span><span style=\"background-color: #272822\">                                                                  </span>  \n",
       "  <span style=\"background-color: #272822\">                                                                                                               </span>  \n",
       "  <span style=\"color: #959077; text-decoration-color: #959077; background-color: #272822\"># Get the current time</span><span style=\"background-color: #272822\">                                                                                         </span>  \n",
       "  <span style=\"color: #f8f8f2; text-decoration-color: #f8f8f2; background-color: #272822\">current_time </span><span style=\"color: #ff4689; text-decoration-color: #ff4689; background-color: #272822\">=</span><span style=\"color: #f8f8f2; text-decoration-color: #f8f8f2; background-color: #272822\"> datetime</span><span style=\"color: #ff4689; text-decoration-color: #ff4689; background-color: #272822\">.</span><span style=\"color: #f8f8f2; text-decoration-color: #f8f8f2; background-color: #272822\">datetime</span><span style=\"color: #ff4689; text-decoration-color: #ff4689; background-color: #272822\">.</span><span style=\"color: #f8f8f2; text-decoration-color: #f8f8f2; background-color: #272822\">now()</span><span style=\"background-color: #272822\">                                                                         </span>  \n",
       "  <span style=\"background-color: #272822\">                                                                                                               </span>  \n",
       "  <span style=\"color: #959077; text-decoration-color: #959077; background-color: #272822\"># Calculate the time when the party will be ready</span><span style=\"background-color: #272822\">                                                              </span>  \n",
       "  <span style=\"color: #f8f8f2; text-decoration-color: #f8f8f2; background-color: #272822\">party_ready_time </span><span style=\"color: #ff4689; text-decoration-color: #ff4689; background-color: #272822\">=</span><span style=\"color: #f8f8f2; text-decoration-color: #f8f8f2; background-color: #272822\"> current_time </span><span style=\"color: #ff4689; text-decoration-color: #ff4689; background-color: #272822\">+</span><span style=\"color: #f8f8f2; text-decoration-color: #f8f8f2; background-color: #272822\"> datetime</span><span style=\"color: #ff4689; text-decoration-color: #ff4689; background-color: #272822\">.</span><span style=\"color: #f8f8f2; text-decoration-color: #f8f8f2; background-color: #272822\">timedelta(minutes</span><span style=\"color: #ff4689; text-decoration-color: #ff4689; background-color: #272822\">=</span><span style=\"color: #f8f8f2; text-decoration-color: #f8f8f2; background-color: #272822\">total_time_minutes)</span><span style=\"background-color: #272822\">                               </span>  \n",
       "  <span style=\"background-color: #272822\">                                                                                                               </span>  \n",
       "  <span style=\"color: #959077; text-decoration-color: #959077; background-color: #272822\"># Print the result</span><span style=\"background-color: #272822\">                                                                                             </span>  \n",
       "  <span style=\"color: #f8f8f2; text-decoration-color: #f8f8f2; background-color: #272822\">print(</span><span style=\"color: #e6db74; text-decoration-color: #e6db74; background-color: #272822\">\"The party will be ready at:\"</span><span style=\"color: #f8f8f2; text-decoration-color: #f8f8f2; background-color: #272822\">, party_ready_time</span><span style=\"color: #ff4689; text-decoration-color: #ff4689; background-color: #272822\">.</span><span style=\"color: #f8f8f2; text-decoration-color: #f8f8f2; background-color: #272822\">strftime(</span><span style=\"color: #e6db74; text-decoration-color: #e6db74; background-color: #272822\">\"%Y-%m-%d %H:%M:%S\"</span><span style=\"color: #f8f8f2; text-decoration-color: #f8f8f2; background-color: #272822\">))</span><span style=\"background-color: #272822\">                           </span>  \n",
       " ───────────────────────────────────────────────────────────────────────────────────────────────────────────────── \n",
       "</pre>\n"
      ],
      "text/plain": [
       " ─ \u001b[1mExecuting parsed code:\u001b[0m ──────────────────────────────────────────────────────────────────────────────────────── \n",
       "  \u001b[38;2;255;70;137;48;2;39;40;34mimport\u001b[0m\u001b[38;2;248;248;242;48;2;39;40;34m \u001b[0m\u001b[38;2;248;248;242;48;2;39;40;34mdatetime\u001b[0m\u001b[48;2;39;40;34m                                                                                                \u001b[0m  \n",
       "  \u001b[48;2;39;40;34m                                                                                                               \u001b[0m  \n",
       "  \u001b[38;2;149;144;119;48;2;39;40;34m# Define the time required for each task in minutes\u001b[0m\u001b[48;2;39;40;34m                                                            \u001b[0m  \n",
       "  \u001b[38;2;248;248;242;48;2;39;40;34mtask_times\u001b[0m\u001b[38;2;248;248;242;48;2;39;40;34m \u001b[0m\u001b[38;2;255;70;137;48;2;39;40;34m=\u001b[0m\u001b[38;2;248;248;242;48;2;39;40;34m \u001b[0m\u001b[38;2;248;248;242;48;2;39;40;34m{\u001b[0m\u001b[48;2;39;40;34m                                                                                                 \u001b[0m  \n",
       "  \u001b[38;2;248;248;242;48;2;39;40;34m    \u001b[0m\u001b[38;2;230;219;116;48;2;39;40;34m\"\u001b[0m\u001b[38;2;230;219;116;48;2;39;40;34mPrepare the drinks\u001b[0m\u001b[38;2;230;219;116;48;2;39;40;34m\"\u001b[0m\u001b[38;2;248;248;242;48;2;39;40;34m:\u001b[0m\u001b[38;2;248;248;242;48;2;39;40;34m \u001b[0m\u001b[38;2;174;129;255;48;2;39;40;34m30\u001b[0m\u001b[38;2;248;248;242;48;2;39;40;34m,\u001b[0m\u001b[48;2;39;40;34m                                                                                  \u001b[0m  \n",
       "  \u001b[38;2;248;248;242;48;2;39;40;34m    \u001b[0m\u001b[38;2;230;219;116;48;2;39;40;34m\"\u001b[0m\u001b[38;2;230;219;116;48;2;39;40;34mDecorate the mansion\u001b[0m\u001b[38;2;230;219;116;48;2;39;40;34m\"\u001b[0m\u001b[38;2;248;248;242;48;2;39;40;34m:\u001b[0m\u001b[38;2;248;248;242;48;2;39;40;34m \u001b[0m\u001b[38;2;174;129;255;48;2;39;40;34m60\u001b[0m\u001b[38;2;248;248;242;48;2;39;40;34m,\u001b[0m\u001b[48;2;39;40;34m                                                                                \u001b[0m  \n",
       "  \u001b[38;2;248;248;242;48;2;39;40;34m    \u001b[0m\u001b[38;2;230;219;116;48;2;39;40;34m\"\u001b[0m\u001b[38;2;230;219;116;48;2;39;40;34mSet up the menu\u001b[0m\u001b[38;2;230;219;116;48;2;39;40;34m\"\u001b[0m\u001b[38;2;248;248;242;48;2;39;40;34m:\u001b[0m\u001b[38;2;248;248;242;48;2;39;40;34m \u001b[0m\u001b[38;2;174;129;255;48;2;39;40;34m45\u001b[0m\u001b[38;2;248;248;242;48;2;39;40;34m,\u001b[0m\u001b[48;2;39;40;34m                                                                                     \u001b[0m  \n",
       "  \u001b[38;2;248;248;242;48;2;39;40;34m    \u001b[0m\u001b[38;2;230;219;116;48;2;39;40;34m\"\u001b[0m\u001b[38;2;230;219;116;48;2;39;40;34mPrepare the music and playlist\u001b[0m\u001b[38;2;230;219;116;48;2;39;40;34m\"\u001b[0m\u001b[38;2;248;248;242;48;2;39;40;34m:\u001b[0m\u001b[38;2;248;248;242;48;2;39;40;34m \u001b[0m\u001b[38;2;174;129;255;48;2;39;40;34m45\u001b[0m\u001b[48;2;39;40;34m                                                                       \u001b[0m  \n",
       "  \u001b[38;2;248;248;242;48;2;39;40;34m}\u001b[0m\u001b[48;2;39;40;34m                                                                                                              \u001b[0m  \n",
       "  \u001b[48;2;39;40;34m                                                                                                               \u001b[0m  \n",
       "  \u001b[38;2;149;144;119;48;2;39;40;34m# Calculate the total time required for all tasks\u001b[0m\u001b[48;2;39;40;34m                                                              \u001b[0m  \n",
       "  \u001b[38;2;248;248;242;48;2;39;40;34mtotal_time_minutes\u001b[0m\u001b[38;2;248;248;242;48;2;39;40;34m \u001b[0m\u001b[38;2;255;70;137;48;2;39;40;34m=\u001b[0m\u001b[38;2;248;248;242;48;2;39;40;34m \u001b[0m\u001b[38;2;248;248;242;48;2;39;40;34msum\u001b[0m\u001b[38;2;248;248;242;48;2;39;40;34m(\u001b[0m\u001b[38;2;248;248;242;48;2;39;40;34mtask_times\u001b[0m\u001b[38;2;255;70;137;48;2;39;40;34m.\u001b[0m\u001b[38;2;248;248;242;48;2;39;40;34mvalues\u001b[0m\u001b[38;2;248;248;242;48;2;39;40;34m(\u001b[0m\u001b[38;2;248;248;242;48;2;39;40;34m)\u001b[0m\u001b[38;2;248;248;242;48;2;39;40;34m)\u001b[0m\u001b[48;2;39;40;34m                                                                  \u001b[0m  \n",
       "  \u001b[48;2;39;40;34m                                                                                                               \u001b[0m  \n",
       "  \u001b[38;2;149;144;119;48;2;39;40;34m# Get the current time\u001b[0m\u001b[48;2;39;40;34m                                                                                         \u001b[0m  \n",
       "  \u001b[38;2;248;248;242;48;2;39;40;34mcurrent_time\u001b[0m\u001b[38;2;248;248;242;48;2;39;40;34m \u001b[0m\u001b[38;2;255;70;137;48;2;39;40;34m=\u001b[0m\u001b[38;2;248;248;242;48;2;39;40;34m \u001b[0m\u001b[38;2;248;248;242;48;2;39;40;34mdatetime\u001b[0m\u001b[38;2;255;70;137;48;2;39;40;34m.\u001b[0m\u001b[38;2;248;248;242;48;2;39;40;34mdatetime\u001b[0m\u001b[38;2;255;70;137;48;2;39;40;34m.\u001b[0m\u001b[38;2;248;248;242;48;2;39;40;34mnow\u001b[0m\u001b[38;2;248;248;242;48;2;39;40;34m(\u001b[0m\u001b[38;2;248;248;242;48;2;39;40;34m)\u001b[0m\u001b[48;2;39;40;34m                                                                         \u001b[0m  \n",
       "  \u001b[48;2;39;40;34m                                                                                                               \u001b[0m  \n",
       "  \u001b[38;2;149;144;119;48;2;39;40;34m# Calculate the time when the party will be ready\u001b[0m\u001b[48;2;39;40;34m                                                              \u001b[0m  \n",
       "  \u001b[38;2;248;248;242;48;2;39;40;34mparty_ready_time\u001b[0m\u001b[38;2;248;248;242;48;2;39;40;34m \u001b[0m\u001b[38;2;255;70;137;48;2;39;40;34m=\u001b[0m\u001b[38;2;248;248;242;48;2;39;40;34m \u001b[0m\u001b[38;2;248;248;242;48;2;39;40;34mcurrent_time\u001b[0m\u001b[38;2;248;248;242;48;2;39;40;34m \u001b[0m\u001b[38;2;255;70;137;48;2;39;40;34m+\u001b[0m\u001b[38;2;248;248;242;48;2;39;40;34m \u001b[0m\u001b[38;2;248;248;242;48;2;39;40;34mdatetime\u001b[0m\u001b[38;2;255;70;137;48;2;39;40;34m.\u001b[0m\u001b[38;2;248;248;242;48;2;39;40;34mtimedelta\u001b[0m\u001b[38;2;248;248;242;48;2;39;40;34m(\u001b[0m\u001b[38;2;248;248;242;48;2;39;40;34mminutes\u001b[0m\u001b[38;2;255;70;137;48;2;39;40;34m=\u001b[0m\u001b[38;2;248;248;242;48;2;39;40;34mtotal_time_minutes\u001b[0m\u001b[38;2;248;248;242;48;2;39;40;34m)\u001b[0m\u001b[48;2;39;40;34m                               \u001b[0m  \n",
       "  \u001b[48;2;39;40;34m                                                                                                               \u001b[0m  \n",
       "  \u001b[38;2;149;144;119;48;2;39;40;34m# Print the result\u001b[0m\u001b[48;2;39;40;34m                                                                                             \u001b[0m  \n",
       "  \u001b[38;2;248;248;242;48;2;39;40;34mprint\u001b[0m\u001b[38;2;248;248;242;48;2;39;40;34m(\u001b[0m\u001b[38;2;230;219;116;48;2;39;40;34m\"\u001b[0m\u001b[38;2;230;219;116;48;2;39;40;34mThe party will be ready at:\u001b[0m\u001b[38;2;230;219;116;48;2;39;40;34m\"\u001b[0m\u001b[38;2;248;248;242;48;2;39;40;34m,\u001b[0m\u001b[38;2;248;248;242;48;2;39;40;34m \u001b[0m\u001b[38;2;248;248;242;48;2;39;40;34mparty_ready_time\u001b[0m\u001b[38;2;255;70;137;48;2;39;40;34m.\u001b[0m\u001b[38;2;248;248;242;48;2;39;40;34mstrftime\u001b[0m\u001b[38;2;248;248;242;48;2;39;40;34m(\u001b[0m\u001b[38;2;230;219;116;48;2;39;40;34m\"\u001b[0m\u001b[38;2;230;219;116;48;2;39;40;34m%\u001b[0m\u001b[38;2;230;219;116;48;2;39;40;34mY-\u001b[0m\u001b[38;2;230;219;116;48;2;39;40;34m%\u001b[0m\u001b[38;2;230;219;116;48;2;39;40;34mm-\u001b[0m\u001b[38;2;230;219;116;48;2;39;40;34m%d\u001b[0m\u001b[38;2;230;219;116;48;2;39;40;34m \u001b[0m\u001b[38;2;230;219;116;48;2;39;40;34m%\u001b[0m\u001b[38;2;230;219;116;48;2;39;40;34mH:\u001b[0m\u001b[38;2;230;219;116;48;2;39;40;34m%\u001b[0m\u001b[38;2;230;219;116;48;2;39;40;34mM:\u001b[0m\u001b[38;2;230;219;116;48;2;39;40;34m%\u001b[0m\u001b[38;2;230;219;116;48;2;39;40;34mS\u001b[0m\u001b[38;2;230;219;116;48;2;39;40;34m\"\u001b[0m\u001b[38;2;248;248;242;48;2;39;40;34m)\u001b[0m\u001b[38;2;248;248;242;48;2;39;40;34m)\u001b[0m\u001b[48;2;39;40;34m                           \u001b[0m  \n",
       " ───────────────────────────────────────────────────────────────────────────────────────────────────────────────── \n"
      ]
     },
     "metadata": {},
     "output_type": "display_data"
    },
    {
     "data": {
      "text/html": [
       "<pre style=\"white-space:pre;overflow-x:auto;line-height:normal;font-family:Menlo,'DejaVu Sans Mono',consolas,'Courier New',monospace\"><span style=\"font-weight: bold\">Execution logs:</span>\n",
       "The party will be ready at: 2025-08-19 20:35:15\n",
       "\n",
       "Out: None\n",
       "</pre>\n"
      ],
      "text/plain": [
       "\u001b[1mExecution logs:\u001b[0m\n",
       "The party will be ready at: 2025-08-19 20:35:15\n",
       "\n",
       "Out: None\n"
      ]
     },
     "metadata": {},
     "output_type": "display_data"
    },
    {
     "data": {
      "text/html": [
       "<pre style=\"white-space:pre;overflow-x:auto;line-height:normal;font-family:Menlo,'DejaVu Sans Mono',consolas,'Courier New',monospace\"><span style=\"color: #7f7f7f; text-decoration-color: #7f7f7f\">[Step 1: Duration 3.19 seconds| Input tokens: 2,023 | Output tokens: 205]</span>\n",
       "</pre>\n"
      ],
      "text/plain": [
       "\u001b[2m[Step 1: Duration 3.19 seconds| Input tokens: 2,023 | Output tokens: 205]\u001b[0m\n"
      ]
     },
     "metadata": {},
     "output_type": "display_data"
    },
    {
     "data": {
      "text/html": [
       "<pre style=\"white-space:pre;overflow-x:auto;line-height:normal;font-family:Menlo,'DejaVu Sans Mono',consolas,'Courier New',monospace\"><span style=\"color: #d4b702; text-decoration-color: #d4b702\">━━━━━━━━━━━━━━━━━━━━━━━━━━━━━━━━━━━━━━━━━━━━━━━━━━━━━ </span><span style=\"font-weight: bold\">Step 2</span><span style=\"color: #d4b702; text-decoration-color: #d4b702\"> ━━━━━━━━━━━━━━━━━━━━━━━━━━━━━━━━━━━━━━━━━━━━━━━━━━━━━━</span>\n",
       "</pre>\n"
      ],
      "text/plain": [
       "\u001b[38;2;212;183;2m━━━━━━━━━━━━━━━━━━━━━━━━━━━━━━━━━━━━━━━━━━━━━━━━━━━━━ \u001b[0m\u001b[1mStep 2\u001b[0m\u001b[38;2;212;183;2m ━━━━━━━━━━━━━━━━━━━━━━━━━━━━━━━━━━━━━━━━━━━━━━━━━━━━━━\u001b[0m\n"
      ]
     },
     "metadata": {},
     "output_type": "display_data"
    },
    {
     "data": {
      "text/html": [
       "<pre style=\"white-space:pre;overflow-x:auto;line-height:normal;font-family:Menlo,'DejaVu Sans Mono',consolas,'Courier New',monospace\"> ─ <span style=\"font-weight: bold\">Executing parsed code:</span> ──────────────────────────────────────────────────────────────────────────────────────── \n",
       "  <span style=\"color: #f8f8f2; text-decoration-color: #f8f8f2; background-color: #272822\">final_answer(</span><span style=\"color: #e6db74; text-decoration-color: #e6db74; background-color: #272822\">\"The party will be ready at: 2025-08-19 20:35:15\"</span><span style=\"color: #f8f8f2; text-decoration-color: #f8f8f2; background-color: #272822\">)</span><span style=\"background-color: #272822\">                                                </span>  \n",
       " ───────────────────────────────────────────────────────────────────────────────────────────────────────────────── \n",
       "</pre>\n"
      ],
      "text/plain": [
       " ─ \u001b[1mExecuting parsed code:\u001b[0m ──────────────────────────────────────────────────────────────────────────────────────── \n",
       "  \u001b[38;2;248;248;242;48;2;39;40;34mfinal_answer\u001b[0m\u001b[38;2;248;248;242;48;2;39;40;34m(\u001b[0m\u001b[38;2;230;219;116;48;2;39;40;34m\"\u001b[0m\u001b[38;2;230;219;116;48;2;39;40;34mThe party will be ready at: 2025-08-19 20:35:15\u001b[0m\u001b[38;2;230;219;116;48;2;39;40;34m\"\u001b[0m\u001b[38;2;248;248;242;48;2;39;40;34m)\u001b[0m\u001b[48;2;39;40;34m                                                \u001b[0m  \n",
       " ───────────────────────────────────────────────────────────────────────────────────────────────────────────────── \n"
      ]
     },
     "metadata": {},
     "output_type": "display_data"
    },
    {
     "data": {
      "text/html": [
       "<pre style=\"white-space:pre;overflow-x:auto;line-height:normal;font-family:Menlo,'DejaVu Sans Mono',consolas,'Courier New',monospace\"></pre>\n"
      ],
      "text/plain": []
     },
     "metadata": {},
     "output_type": "display_data"
    },
    {
     "data": {
      "text/html": [
       "<pre style=\"white-space:pre;overflow-x:auto;line-height:normal;font-family:Menlo,'DejaVu Sans Mono',consolas,'Courier New',monospace\"><span style=\"color: #d4b702; text-decoration-color: #d4b702; font-weight: bold\">Final answer: The party will be ready at: 2025-08-19 20:35:15</span>\n",
       "</pre>\n"
      ],
      "text/plain": [
       "\u001b[1;38;2;212;183;2mFinal answer: The party will be ready at: 2025-08-19 20:35:15\u001b[0m\n"
      ]
     },
     "metadata": {},
     "output_type": "display_data"
    },
    {
     "data": {
      "text/html": [
       "<pre style=\"white-space:pre;overflow-x:auto;line-height:normal;font-family:Menlo,'DejaVu Sans Mono',consolas,'Courier New',monospace\"><span style=\"color: #7f7f7f; text-decoration-color: #7f7f7f\">[Step 2: Duration 1.45 seconds| Input tokens: 4,506 | Output tokens: 282]</span>\n",
       "</pre>\n"
      ],
      "text/plain": [
       "\u001b[2m[Step 2: Duration 1.45 seconds| Input tokens: 4,506 | Output tokens: 282]\u001b[0m\n"
      ]
     },
     "metadata": {},
     "output_type": "display_data"
    },
    {
     "data": {
      "text/plain": [
       "'The party will be ready at: 2025-08-19 20:35:15'"
      ]
     },
     "execution_count": 6,
     "metadata": {},
     "output_type": "execute_result"
    }
   ],
   "source": [
    "from smolagents import CodeAgent, InferenceClientModel\n",
    "import numpy as np\n",
    "import time\n",
    "import datetime\n",
    "\n",
    "agent = CodeAgent(tools=[], model=InferenceClientModel(), additional_authorized_imports=['datetime'])\n",
    "\n",
    "agent.run(\n",
    "    \"\"\"\n",
    "    You need to prepare for the party. Here are the tasks:\n",
    "    1. Prepare the drinks - 30 minutes\n",
    "    2. Decorate the mansion - 60 minutes\n",
    "    3. Set up the menu - 45 minutes\n",
    "    4. Prepare the music and playlist - 45 minutes\n",
    "\n",
    "    If we start right now, at what time will the party be ready?\n",
    "    \"\"\"\n",
    ")"
   ]
  },
  {
   "cell_type": "markdown",
   "id": "ddaef37b",
   "metadata": {},
   "source": [
    "To publish the Agent to the Hugging Face Hub"
   ]
  },
  {
   "cell_type": "code",
   "execution_count": null,
   "id": "a61faa13",
   "metadata": {},
   "outputs": [],
   "source": [
    "# Change to your username and repo name\n",
    "agent.push_to_hub('username/PartyPlannerAgent')"
   ]
  },
  {
   "cell_type": "markdown",
   "id": "21cf3c0e",
   "metadata": {},
   "source": [
    "To download the agent"
   ]
  },
  {
   "cell_type": "code",
   "execution_count": null,
   "id": "fbf28bbd",
   "metadata": {},
   "outputs": [],
   "source": [
    "party_agent = agent.from_hub('username/PartyPlannerAgent', trust_remote_code=True)\n",
    "\n",
    "party_agent.run(\"Give me the best playlist from Clair Obscur Expedition 33. The party idea is a chill video game party\")"
   ]
  },
  {
   "cell_type": "markdown",
   "id": "133be930",
   "metadata": {},
   "source": [
    "### Integrating LangFuse and OpenTelemetary for Inspection\n",
    "Langfuse helps to trace and debug LLM Models. You will need to create an account on Langfuse cloud and then get your API keys, the link is:\n",
    "https://cloud.langfuse.com\n"
   ]
  },
  {
   "cell_type": "code",
   "execution_count": null,
   "id": "5e533f4b",
   "metadata": {},
   "outputs": [],
   "source": [
    "import os\n",
    "\n",
    "# Get keys for your project from the project settings page: https://cloud.langfuse.com\n",
    "os.environ[\"LANGFUSE_PUBLIC_KEY\"] = \"sk-lf-....\" \n",
    "os.environ[\"LANGFUSE_SECRET_KEY\"] = \"pk-lf-....\" \n",
    "os.environ[\"LANGFUSE_HOST\"] = \"https://cloud.langfuse.com\" # 🇪🇺 EU region"
   ]
  },
  {
   "cell_type": "code",
   "execution_count": null,
   "id": "95016984",
   "metadata": {},
   "outputs": [],
   "source": [
    "from langfuse import get_client\n",
    " \n",
    "langfuse = get_client()\n",
    " \n",
    "# Verify connection\n",
    "if langfuse.auth_check():\n",
    "    print(\"Langfuse client is authenticated and ready!\")\n",
    "else:\n",
    "    print(\"Authentication failed. Please check your credentials and host.\")"
   ]
  },
  {
   "cell_type": "code",
   "execution_count": null,
   "id": "2f5729a5",
   "metadata": {},
   "outputs": [],
   "source": [
    "from openinference.instrumentation.smolagents import SmolagentsInstrumentor\n",
    "\n",
    "SmolagentsInstrumentor().instrument()"
   ]
  },
  {
   "cell_type": "code",
   "execution_count": null,
   "id": "a50ae03f",
   "metadata": {},
   "outputs": [],
   "source": [
    "from smolagents import CodeAgent, InferenceClientModel\n",
    "\n",
    "agent = CodeAgent(tools=[], model=InferenceClientModel())\n",
    "party_agent = agent.from_hub('username/PartyPlannerAgent', trust_remote_code=True)\n",
    "party_agent.run(\"Give me the best playlist for a party. The party idea is a 'video game' theme\")  "
   ]
  }
 ],
 "metadata": {
  "kernelspec": {
   "display_name": "Python 3",
   "language": "python",
   "name": "python3"
  },
  "language_info": {
   "codemirror_mode": {
    "name": "ipython",
    "version": 3
   },
   "file_extension": ".py",
   "mimetype": "text/x-python",
   "name": "python",
   "nbconvert_exporter": "python",
   "pygments_lexer": "ipython3",
   "version": "3.13.5"
  }
 },
 "nbformat": 4,
 "nbformat_minor": 5
}
